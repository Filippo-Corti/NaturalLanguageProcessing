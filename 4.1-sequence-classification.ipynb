{
 "cells": [
  {
   "metadata": {},
   "cell_type": "markdown",
   "source": [
    "# Classification using RNNs\n",
    "\n",
    "We classify Roman Numbers with a label:\n",
    "* 'first' if n < 5\n",
    "* 'second' if n >= 5"
   ],
   "id": "38129bf65f312f58"
  },
  {
   "cell_type": "code",
   "id": "initial_id",
   "metadata": {
    "collapsed": true,
    "ExecuteTime": {
     "end_time": "2025-10-24T16:40:09.916178Z",
     "start_time": "2025-10-24T16:40:08.352810Z"
    }
   },
   "source": [
    "import pandas as pd\n",
    "import utils.neural_nets as nt\n",
    "import numpy as np\n",
    "import matplotlib.pyplot as plt\n",
    "from sklearn.metrics import classification_report, confusion_matrix\n",
    "import torch\n",
    "from roman_arabic_numerals import conv"
   ],
   "outputs": [],
   "execution_count": 19
  },
  {
   "metadata": {
    "ExecuteTime": {
     "end_time": "2025-10-24T09:09:07.570957Z",
     "start_time": "2025-10-24T09:09:07.560336Z"
    }
   },
   "cell_type": "code",
   "source": "data = pd.read_csv(\"data/roman-numbers/classification.csv\")",
   "id": "b76fe229807c6e69",
   "outputs": [],
   "execution_count": 5
  },
  {
   "metadata": {
    "ExecuteTime": {
     "end_time": "2025-10-24T09:09:08.034336Z",
     "start_time": "2025-10-24T09:09:08.013759Z"
    }
   },
   "cell_type": "code",
   "source": [
    "# New labels for the dataset\n",
    "def get_label(num):\n",
    "    k = int(str(conv.rom_arab(num))[-1])\n",
    "    if k < 5:\n",
    "        return 'first'\n",
    "    else:\n",
    "        return 'second'\n",
    "\n",
    "sequences = data.sequence.values\n",
    "targets = data.target.values\n",
    "vocabulary = set()\n",
    "category_lines = {'first': [], 'second': []}\n",
    "for i, seq in enumerate(sequences):\n",
    "    n = seq.replace('_', '')\n",
    "    for c in n:\n",
    "        vocabulary.add(c)\n",
    "    category_lines[get_label(n)].append(n)\n",
    "vocabulary = sorted(list(vocabulary))\n",
    "categories = list(category_lines.keys())"
   ],
   "id": "8c6aee3ca2dc0f50",
   "outputs": [],
   "execution_count": 6
  },
  {
   "metadata": {
    "ExecuteTime": {
     "end_time": "2025-10-24T09:09:36.626252Z",
     "start_time": "2025-10-24T09:09:36.620176Z"
    }
   },
   "cell_type": "code",
   "source": [
    "# Embedding of roman numbers as matrices\n",
    "def num2tensor(num):\n",
    "    tensor = torch.zeros(len(num), 1, len(vocabulary))\n",
    "    for li, letter in enumerate(num):\n",
    "        tensor[li][0][vocabulary.index(letter)] = 1\n",
    "    return tensor"
   ],
   "id": "e280c99b1235ad3c",
   "outputs": [],
   "execution_count": 8
  },
  {
   "metadata": {
    "ExecuteTime": {
     "end_time": "2025-10-24T16:37:53.332783Z",
     "start_time": "2025-10-24T16:37:53.323987Z"
    }
   },
   "cell_type": "code",
   "source": [
    "# Some utility functions\n",
    "\n",
    "def read_categories(output):\n",
    "    top_n, top_i = output.topk(1)\n",
    "    category_i = top_i[0].item()\n",
    "    return categories[category_i], category_i\n",
    "\n",
    "def random_training_sample(embedding_function: callable):\n",
    "    category = np.random.choice(categories)\n",
    "    line = np.random.choice(category_lines[category])\n",
    "    category_tensor = torch.tensor([categories.index(category)], dtype=torch.long)\n",
    "    line_tensor = embedding_function(line)\n",
    "    return category, line, category_tensor, line_tensor"
   ],
   "id": "b436e832e8cd4e11",
   "outputs": [],
   "execution_count": 13
  },
  {
   "metadata": {},
   "cell_type": "markdown",
   "source": "## Hand-Built RNN",
   "id": "e95e9d9ac6e3f2dc"
  },
  {
   "metadata": {},
   "cell_type": "markdown",
   "source": "### Training",
   "id": "5f6384f5c3afcbbc"
  },
  {
   "metadata": {
    "ExecuteTime": {
     "end_time": "2025-10-24T16:37:16.240287Z",
     "start_time": "2025-10-24T16:37:14.623877Z"
    }
   },
   "cell_type": "code",
   "source": [
    "input_size = len(vocabulary)\n",
    "n_hidden = 32\n",
    "output_size = len(categories)\n",
    "rnn = nt.RNN(input_size, n_hidden, output_size)"
   ],
   "id": "4aba36de5a8a6cf5",
   "outputs": [],
   "execution_count": 10
  },
  {
   "metadata": {
    "ExecuteTime": {
     "end_time": "2025-10-24T16:38:25.599140Z",
     "start_time": "2025-10-24T16:38:02.817160Z"
    }
   },
   "cell_type": "code",
   "source": [
    "history = rnn.run_training(\n",
    "    data_generator=random_training_sample, # This generates the training samples from an embedding function\n",
    "    embedding_function=num2tensor, # This is the embedding function for the dataset\n",
    "    n_iterations=10000,\n",
    "    plot_every=100\n",
    ")"
   ],
   "id": "fecfb69e55d2afea",
   "outputs": [
    {
     "name": "stderr",
     "output_type": "stream",
     "text": [
      "100%|██████████| 10000/10000 [00:22<00:00, 439.20it/s]\n"
     ]
    }
   ],
   "execution_count": 14
  },
  {
   "metadata": {
    "ExecuteTime": {
     "end_time": "2025-10-24T16:39:27.435735Z",
     "start_time": "2025-10-24T16:39:27.218943Z"
    }
   },
   "cell_type": "code",
   "source": [
    "fig, ax = plt.subplots(figsize=(6, 2))\n",
    "ax.plot(history)\n",
    "plt.tight_layout()\n",
    "plt.show()"
   ],
   "id": "f027cbef4c80318a",
   "outputs": [
    {
     "data": {
      "text/plain": [
       "<Figure size 600x200 with 1 Axes>"
      ],
      "image/png": "[encoded data removed]"
     },
     "metadata": {},
     "output_type": "display_data",
     "jetTransient": {
      "display_id": null
     }
    }
   ],
   "execution_count": 15
  },
  {
   "metadata": {},
   "cell_type": "markdown",
   "source": "### Evaluation",
   "id": "9e3e4a56df0f3672"
  },
  {
   "metadata": {
    "ExecuteTime": {
     "end_time": "2025-10-24T16:40:14.863030Z",
     "start_time": "2025-10-24T16:40:14.287612Z"
    }
   },
   "cell_type": "code",
   "source": [
    "n_test = 1000\n",
    "y_true, y_pred = [], []\n",
    "for i in range(n_test):\n",
    "    category, line, category_tensor, line_tensor = random_training_sample(num2tensor)\n",
    "    output = rnn.predict(line_tensor)\n",
    "    predicted_label, predicted_index = read_categories(output)\n",
    "    y_true.append(str(category))\n",
    "    y_pred.append(str(predicted_label))\n",
    "\n",
    "print(classification_report(y_true, y_pred, zero_division=0))"
   ],
   "id": "b26d14a0ee9906a6",
   "outputs": [
    {
     "name": "stdout",
     "output_type": "stream",
     "text": [
      "              precision    recall  f1-score   support\n",
      "\n",
      "       first       1.00      1.00      1.00       524\n",
      "      second       1.00      1.00      1.00       476\n",
      "\n",
      "    accuracy                           1.00      1000\n",
      "   macro avg       1.00      1.00      1.00      1000\n",
      "weighted avg       1.00      1.00      1.00      1000\n",
      "\n"
     ]
    }
   ],
   "execution_count": 20
  },
  {
   "metadata": {},
   "cell_type": "markdown",
   "source": "## BOW (Bag-of-Words Model)",
   "id": "73b0765c378676eb"
  },
  {
   "metadata": {
    "ExecuteTime": {
     "end_time": "2025-10-24T16:40:56.720490Z",
     "start_time": "2025-10-24T16:40:56.713030Z"
    }
   },
   "cell_type": "code",
   "source": [
    "def num2bow(num):\n",
    "    tensor = torch.zeros(1, len(vocabulary))\n",
    "    for li, letter in enumerate(num):\n",
    "        tensor[0][vocabulary.index(letter)] += 1\n",
    "    return tensor"
   ],
   "id": "d52eacc5eb919073",
   "outputs": [],
   "execution_count": 21
  },
  {
   "metadata": {
    "ExecuteTime": {
     "end_time": "2025-10-24T16:41:01.327299Z",
     "start_time": "2025-10-24T16:41:01.318305Z"
    }
   },
   "cell_type": "code",
   "source": [
    "input_dim = len(vocabulary)\n",
    "hidden_dim = 16\n",
    "output_dim = len(categories)\n",
    "learning_rate = 0.005\n",
    "bow = nt.FrequencyPredictor(input_dim, hidden_dim, output_dim)"
   ],
   "id": "76e6f1d136104081",
   "outputs": [],
   "execution_count": 22
  },
  {
   "metadata": {
    "ExecuteTime": {
     "end_time": "2025-10-24T16:41:29.277334Z",
     "start_time": "2025-10-24T16:41:15.223775Z"
    }
   },
   "cell_type": "code",
   "source": [
    "n_iterations = 10000\n",
    "plot_every = 100\n",
    "history = bow.run_training(\n",
    "    data_generator=random_training_sample,\n",
    "    embedding_function=num2bow, # A different embedding function\n",
    "    n_iterations=10000,\n",
    "    plot_every=100\n",
    ")"
   ],
   "id": "261055bf4221a176",
   "outputs": [
    {
     "name": "stderr",
     "output_type": "stream",
     "text": [
      "100%|██████████| 10000/10000 [00:14<00:00, 712.17it/s]\n"
     ]
    }
   ],
   "execution_count": 23
  },
  {
   "metadata": {
    "ExecuteTime": {
     "end_time": "2025-10-24T16:42:02.249419Z",
     "start_time": "2025-10-24T16:42:02.087302Z"
    }
   },
   "cell_type": "code",
   "source": [
    "fig, ax = plt.subplots(figsize=(6, 2))\n",
    "ax.plot(history)\n",
    "plt.tight_layout()\n",
    "plt.show()"
   ],
   "id": "2cfa1ca522f57295",
   "outputs": [
    {
     "data": {
      "text/plain": [
       "<Figure size 600x200 with 1 Axes>"
      ],
      "image/png": "[encoded data removed]"
     },
     "metadata": {},
     "output_type": "display_data",
     "jetTransient": {
      "display_id": null
     }
    }
   ],
   "execution_count": 24
  },
  {
   "metadata": {
    "ExecuteTime": {
     "end_time": "2025-10-24T16:42:15.438910Z",
     "start_time": "2025-10-24T16:42:14.816911Z"
    }
   },
   "cell_type": "code",
   "source": [
    "n_test = 1000\n",
    "y_true, y_pred = [], []\n",
    "for i in range(n_test):\n",
    "    category, line, category_tensor, line_tensor = random_training_sample(num2bow)\n",
    "    output = bow.predict(line_tensor)\n",
    "    predicted_label, predicted_index = read_categories(output)\n",
    "    y_true.append(str(category))\n",
    "    y_pred.append(str(predicted_label))\n",
    "print(classification_report(y_true, y_pred, zero_division=0))"
   ],
   "id": "4116f067f4632081",
   "outputs": [
    {
     "name": "stdout",
     "output_type": "stream",
     "text": [
      "              precision    recall  f1-score   support\n",
      "\n",
      "       first       0.83      0.94      0.88       490\n",
      "      second       0.94      0.81      0.87       510\n",
      "\n",
      "    accuracy                           0.88      1000\n",
      "   macro avg       0.88      0.88      0.88      1000\n",
      "weighted avg       0.88      0.88      0.88      1000\n",
      "\n"
     ]
    }
   ],
   "execution_count": 25
  },
  {
   "metadata": {},
   "cell_type": "markdown",
   "source": [
    "## Fake RNN\n",
    "\n",
    "It's a manual implementation of an RNN, where the h (the 'memory') is not passed from one iteration to the other"
   ],
   "id": "7337762638d4b795"
  },
  {
   "metadata": {
    "ExecuteTime": {
     "end_time": "2025-10-24T16:42:58.254831Z",
     "start_time": "2025-10-24T16:42:58.247985Z"
    }
   },
   "cell_type": "code",
   "source": [
    "input_size = len(vocabulary)\n",
    "n_hidden = 32\n",
    "output_size = len(categories)\n",
    "fake = nt.FakeRNN(input_size, n_hidden, output_size)"
   ],
   "id": "4fd3bedf444ba77c",
   "outputs": [],
   "execution_count": 26
  },
  {
   "metadata": {
    "ExecuteTime": {
     "end_time": "2025-10-24T16:43:22.392910Z",
     "start_time": "2025-10-24T16:43:06.971646Z"
    }
   },
   "cell_type": "code",
   "source": [
    "history = fake.run_training(\n",
    "    data_generator=random_training_sample,\n",
    "    embedding_function=num2tensor,\n",
    "    n_iterations=10000,\n",
    "    plot_every=100\n",
    ")"
   ],
   "id": "e100d67e2bd4501d",
   "outputs": [
    {
     "name": "stderr",
     "output_type": "stream",
     "text": [
      "100%|██████████| 10000/10000 [00:15<00:00, 649.07it/s]\n"
     ]
    }
   ],
   "execution_count": 27
  },
  {
   "metadata": {
    "ExecuteTime": {
     "end_time": "2025-10-24T16:43:29.698949Z",
     "start_time": "2025-10-24T16:43:29.436025Z"
    }
   },
   "cell_type": "code",
   "source": [
    "fig, ax = plt.subplots(figsize=(6, 2))\n",
    "ax.plot(history)\n",
    "plt.tight_layout()\n",
    "plt.show()"
   ],
   "id": "6ca59a8034b15cf",
   "outputs": [
    {
     "data": {
      "text/plain": [
       "<Figure size 600x200 with 1 Axes>"
      ],
      "image/png": "[encoded data removed]"
     },
     "metadata": {},
     "output_type": "display_data",
     "jetTransient": {
      "display_id": null
     }
    }
   ],
   "execution_count": 28
  },
  {
   "metadata": {
    "ExecuteTime": {
     "end_time": "2025-10-24T16:43:41.429129Z",
     "start_time": "2025-10-24T16:43:40.350801Z"
    }
   },
   "cell_type": "code",
   "source": [
    "n_test = 1000\n",
    "y_true, y_pred = [], []\n",
    "for i in range(n_test):\n",
    "    category, line, category_tensor, line_tensor = random_training_sample(num2tensor)\n",
    "    output = fake.predict(line_tensor)\n",
    "    predicted_label, predicted_index = read_categories(output)\n",
    "    y_true.append(str(category))\n",
    "    y_pred.append(str(predicted_label))\n",
    "print(classification_report(y_true, y_pred, zero_division=0))"
   ],
   "id": "cf77cd8d6b1cbaa",
   "outputs": [
    {
     "name": "stdout",
     "output_type": "stream",
     "text": [
      "              precision    recall  f1-score   support\n",
      "\n",
      "       first       0.54      0.24      0.34       495\n",
      "      second       0.52      0.79      0.63       505\n",
      "\n",
      "    accuracy                           0.52      1000\n",
      "   macro avg       0.53      0.52      0.48      1000\n",
      "weighted avg       0.53      0.52      0.48      1000\n",
      "\n"
     ]
    }
   ],
   "execution_count": 29
  },
  {
   "metadata": {},
   "cell_type": "markdown",
   "source": "## Comparing Results",
   "id": "87bd1322d1ee480e"
  },
  {
   "metadata": {
    "ExecuteTime": {
     "end_time": "2025-10-24T16:46:09.764792Z",
     "start_time": "2025-10-24T16:46:09.739597Z"
    }
   },
   "cell_type": "code",
   "source": [
    "# Bag of words believes IV and VI are the same string\n",
    "print(\"BOW\")\n",
    "with torch.no_grad():\n",
    "    print(np.exp(bow(num2bow('VI')).numpy()))\n",
    "    print(np.exp(bow(num2bow('IV')).numpy()))\n",
    "\n",
    "# Fake RNN considers it to be a 50% chance (whether 4 or 6 are < 5)\n",
    "print(\"\\nFAKE\")\n",
    "with torch.no_grad():\n",
    "    print(np.exp(fake.predict(num2tensor('IV')).numpy()))\n",
    "    print(np.exp(fake.predict(num2tensor('VI')).numpy()))\n",
    "\n",
    "# Real RNN has a much higher predicted value for the correct labels\n",
    "# That is:\n",
    "# VI ---> second (greater than 5)\n",
    "# IV ---> first (less than 5)\n",
    "print(\"\\nRNN\")\n",
    "with torch.no_grad():\n",
    "    print(np.exp(rnn.predict(num2tensor('VI')).numpy()))\n",
    "    print(np.exp(rnn.predict(num2tensor('IV')).numpy()))"
   ],
   "id": "3541cf4c576603ab",
   "outputs": [
    {
     "name": "stdout",
     "output_type": "stream",
     "text": [
      "BOW\n",
      "[[0.44050562 0.5594944 ]]\n",
      "[[0.44050562 0.5594944 ]]\n",
      "\n",
      "FAKE\n",
      "[[0.5016201 0.4983799]]\n",
      "[[0.47219813 0.52780193]]\n",
      "\n",
      "RNN\n",
      "[[6.3564585e-07 9.9999946e-01]]\n",
      "[[9.9992085e-01 7.9157748e-05]]\n"
     ]
    }
   ],
   "execution_count": 32
  },
  {
   "metadata": {},
   "cell_type": "code",
   "outputs": [],
   "execution_count": null,
   "source": "",
   "id": "82149f21f812ac52"
  }
 ],
 "metadata": {
  "kernelspec": {
   "display_name": "Python 3",
   "language": "python",
   "name": "python3"
  },
  "language_info": {
   "codemirror_mode": {
    "name": "ipython",
    "version": 2
   },
   "file_extension": ".py",
   "mimetype": "text/x-python",
   "name": "python",
   "nbconvert_exporter": "python",
   "pygments_lexer": "ipython2",
   "version": "2.7.6"
  }
 },
 "nbformat": 4,
 "nbformat_minor": 5
}
