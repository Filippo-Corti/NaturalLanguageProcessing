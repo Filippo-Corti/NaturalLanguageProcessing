{
 "cells": [
  {
   "metadata": {},
   "cell_type": "markdown",
   "source": [
    "# Classification using RNN\n",
    "\n",
    "We classify Roman Numbers with a label:\n",
    "* 'first' if n < 5\n",
    "* 'second' if n >= 5"
   ],
   "id": "38129bf65f312f58"
  },
  {
   "cell_type": "code",
   "id": "initial_id",
   "metadata": {
    "collapsed": true,
    "ExecuteTime": {
     "end_time": "2025-10-24T09:09:15.847566Z",
     "start_time": "2025-10-24T09:09:15.842871Z"
    }
   },
   "source": [
    "import pandas as pd\n",
    "import numpy as np\n",
    "import matplotlib.pyplot as plt\n",
    "    \n",
    "import torch\n",
    "from roman_arabic_numerals import conv"
   ],
   "outputs": [],
   "execution_count": 7
  },
  {
   "metadata": {
    "ExecuteTime": {
     "end_time": "2025-10-24T09:09:07.570957Z",
     "start_time": "2025-10-24T09:09:07.560336Z"
    }
   },
   "cell_type": "code",
   "source": "data = pd.read_csv(\"data/roman-numbers/classification.csv\")",
   "id": "b76fe229807c6e69",
   "outputs": [],
   "execution_count": 5
  },
  {
   "metadata": {
    "ExecuteTime": {
     "end_time": "2025-10-24T09:09:08.034336Z",
     "start_time": "2025-10-24T09:09:08.013759Z"
    }
   },
   "cell_type": "code",
   "source": [
    "# New labels for the dataset\n",
    "def get_label(num):\n",
    "    k = int(str(conv.rom_arab(num))[-1])\n",
    "    if k < 5:\n",
    "        return 'first'\n",
    "    else:\n",
    "        return 'second'\n",
    "\n",
    "sequences = data.sequence.values\n",
    "targets = data.target.values\n",
    "vocabulary = set()\n",
    "category_lines = {'first': [], 'second': []}\n",
    "for i, seq in enumerate(sequences):\n",
    "    n = seq.replace('_', '')\n",
    "    for c in n:\n",
    "        vocabulary.add(c)\n",
    "    category_lines[get_label(n)].append(n)\n",
    "vocabulary = sorted(list(vocabulary))\n",
    "categories = list(category_lines.keys())"
   ],
   "id": "8c6aee3ca2dc0f50",
   "outputs": [],
   "execution_count": 6
  },
  {
   "metadata": {
    "ExecuteTime": {
     "end_time": "2025-10-24T09:09:36.626252Z",
     "start_time": "2025-10-24T09:09:36.620176Z"
    }
   },
   "cell_type": "code",
   "source": [
    "# Embedding of roman numbers as matrices\n",
    "def num2tensor(num):\n",
    "    tensor = torch.zeros(len(num), 1, len(vocabulary))\n",
    "    for li, letter in enumerate(num):\n",
    "        tensor[li][0][vocabulary.index(letter)] = 1\n",
    "    return tensor"
   ],
   "id": "e280c99b1235ad3c",
   "outputs": [],
   "execution_count": 8
  },
  {
   "metadata": {},
   "cell_type": "code",
   "outputs": [],
   "execution_count": null,
   "source": "",
   "id": "4aba36de5a8a6cf5"
  }
 ],
 "metadata": {
  "kernelspec": {
   "display_name": "Python 3",
   "language": "python",
   "name": "python3"
  },
  "language_info": {
   "codemirror_mode": {
    "name": "ipython",
    "version": 2
   },
   "file_extension": ".py",
   "mimetype": "text/x-python",
   "name": "python",
   "nbconvert_exporter": "python",
   "pygments_lexer": "ipython2",
   "version": "2.7.6"
  }
 },
 "nbformat": 4,
 "nbformat_minor": 5
}
