{
 "cells": [
  {
   "cell_type": "code",
   "id": "initial_id",
   "metadata": {
    "collapsed": true,
    "ExecuteTime": {
     "end_time": "2025-10-09T08:58:07.798222Z",
     "start_time": "2025-10-09T08:58:07.792470Z"
    }
   },
   "source": [
    "import torch\n",
    "import numpy as np"
   ],
   "outputs": [],
   "execution_count": 6
  },
  {
   "metadata": {},
   "cell_type": "markdown",
   "source": [
    "## What's a Tensor?\n",
    "\n",
    "It's a multi-dimensional array:\n",
    "* Scalar = 0D\n",
    "* Vector = 1D\n",
    "* Matrix = 2D\n",
    "* ... = 3+D\n",
    "\n",
    "\n",
    "Compared to Numpy `nparray`:\n",
    "1. Tensors can run on GPUs (via CUDA)\n",
    "2. Tensor are optimized for differentiation (using Autograd)"
   ],
   "id": "a1326064d7ed066e"
  },
  {
   "metadata": {
    "ExecuteTime": {
     "end_time": "2025-10-09T08:55:11.228365Z",
     "start_time": "2025-10-09T08:55:11.219478Z"
    }
   },
   "cell_type": "code",
   "source": [
    "# Creating a Tensor\n",
    "\n",
    "array = [1, 2, 3]\n",
    "tensor = torch.tensor(\n",
    "    array,\n",
    "    dtype=torch.float32,\n",
    "    device=\"cpu\", # or \"cuda\" or \"cuda:0\" (the first cuda device)\n",
    "    requires_grad=True # Allows for the computation of the point-wise derivative\n",
    ")\n",
    "\n",
    "tensor, tensor.shape"
   ],
   "id": "a9e9c6e923ff3a48",
   "outputs": [
    {
     "data": {
      "text/plain": [
       "(tensor([1., 2., 3.], requires_grad=True), torch.Size([3]))"
      ]
     },
     "execution_count": 5,
     "metadata": {},
     "output_type": "execute_result"
    }
   ],
   "execution_count": 5
  },
  {
   "metadata": {
    "ExecuteTime": {
     "end_time": "2025-10-09T09:00:02.168241Z",
     "start_time": "2025-10-09T09:00:02.160439Z"
    }
   },
   "cell_type": "code",
   "source": [
    "# Creating a Tensor (from a Numpy Array)\n",
    "# Note that a Numpy Array is much faster than a Python array, thus this is preferable\n",
    "\n",
    "array = [1, 2, 3]\n",
    "np_array = np.array(array)\n",
    "tensor = torch.from_numpy(np_array).float()\n",
    "tensor.requires_grad_(True) # All methods that modify in-place end with \"_\"\n",
    "\n",
    "tensor, tensor.shape"
   ],
   "id": "36e0c47b5673c35f",
   "outputs": [
    {
     "data": {
      "text/plain": [
       "(tensor([1., 2., 3.], requires_grad=True), torch.Size([3]))"
      ]
     },
     "execution_count": 13,
     "metadata": {},
     "output_type": "execute_result"
    }
   ],
   "execution_count": 13
  },
  {
   "metadata": {},
   "cell_type": "code",
   "outputs": [],
   "execution_count": null,
   "source": "",
   "id": "30c72979b7bbf72f"
  }
 ],
 "metadata": {
  "kernelspec": {
   "display_name": "Python 3",
   "language": "python",
   "name": "python3"
  },
  "language_info": {
   "codemirror_mode": {
    "name": "ipython",
    "version": 2
   },
   "file_extension": ".py",
   "mimetype": "text/x-python",
   "name": "python",
   "nbconvert_exporter": "python",
   "pygments_lexer": "ipython2",
   "version": "2.7.6"
  }
 },
 "nbformat": 4,
 "nbformat_minor": 5
}
