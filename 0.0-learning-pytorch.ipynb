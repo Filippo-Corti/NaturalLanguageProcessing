{
 "cells": [
  {
   "cell_type": "code",
   "id": "initial_id",
   "metadata": {
    "collapsed": true,
    "ExecuteTime": {
     "end_time": "2025-10-09T09:53:11.533422Z",
     "start_time": "2025-10-09T09:53:11.527917Z"
    }
   },
   "source": [
    "import torch\n",
    "import torchviz\n",
    "import numpy as np\n",
    "import os\n",
    "os.environ[\"PATH\"] += os.pathsep + 'C:/Program Files/Graphviz/bin/' # fix"
   ],
   "outputs": [],
   "execution_count": 70
  },
  {
   "metadata": {},
   "cell_type": "markdown",
   "source": "# Introduction to Pytorch",
   "id": "72d2f71bb4982a91"
  },
  {
   "metadata": {},
   "cell_type": "markdown",
   "source": [
    "## What's a Tensor?\n",
    "\n",
    "It's a multi-dimensional array:\n",
    "* Scalar = 0D\n",
    "* Vector = 1D\n",
    "* Matrix = 2D\n",
    "* ... = 3+D\n",
    "\n",
    "\n",
    "Compared to Numpy `nparray`:\n",
    "1. Tensors can run on GPUs (via CUDA)\n",
    "2. Tensor are optimized for differentiation (using Autograd)"
   ],
   "id": "a1326064d7ed066e"
  },
  {
   "metadata": {
    "ExecuteTime": {
     "end_time": "2025-10-09T08:55:11.228365Z",
     "start_time": "2025-10-09T08:55:11.219478Z"
    }
   },
   "cell_type": "code",
   "source": [
    "# Creating a Tensor\n",
    "\n",
    "array = [1, 2, 3]\n",
    "tensor = torch.tensor(\n",
    "    array,\n",
    "    dtype=torch.float32,\n",
    "    device=\"cpu\", # or \"cuda\" or \"cuda:0\" (the first cuda device)\n",
    "    requires_grad=True # Allows for the computation of the point-wise derivative\n",
    ")\n",
    "\n",
    "tensor, tensor.shape"
   ],
   "id": "a9e9c6e923ff3a48",
   "outputs": [
    {
     "data": {
      "text/plain": [
       "(tensor([1., 2., 3.], requires_grad=True), torch.Size([3]))"
      ]
     },
     "execution_count": 5,
     "metadata": {},
     "output_type": "execute_result"
    }
   ],
   "execution_count": 5
  },
  {
   "metadata": {
    "ExecuteTime": {
     "end_time": "2025-10-09T09:00:02.168241Z",
     "start_time": "2025-10-09T09:00:02.160439Z"
    }
   },
   "cell_type": "code",
   "source": [
    "# Creating a Tensor (from a Numpy Array)\n",
    "# Note that a Numpy Array is much faster than a Python array, thus this is preferable\n",
    "\n",
    "array = [1, 2, 3]\n",
    "np_array = np.array(array)\n",
    "tensor = torch.from_numpy(np_array).float()\n",
    "tensor.requires_grad_(True) # All methods that modify in-place end with \"_\"\n",
    "\n",
    "tensor, tensor.shape"
   ],
   "id": "36e0c47b5673c35f",
   "outputs": [
    {
     "data": {
      "text/plain": [
       "(tensor([1., 2., 3.], requires_grad=True), torch.Size([3]))"
      ]
     },
     "execution_count": 13,
     "metadata": {},
     "output_type": "execute_result"
    }
   ],
   "execution_count": 13
  },
  {
   "metadata": {
    "ExecuteTime": {
     "end_time": "2025-10-09T09:07:50.128836Z",
     "start_time": "2025-10-09T09:07:50.123275Z"
    }
   },
   "cell_type": "code",
   "source": [
    "# Define the Device you want to use\n",
    "# Ideally, computations happen on GPU as they are faster\n",
    "# However, not everything can sit in the GPU's RAM\n",
    "# We therefore need to change the variables' context\n",
    "\n",
    "device = \"cuda\" if torch.cuda.is_available() else \"cpu\"\n",
    "\n",
    "tensor = tensor.to(device) # Sends to CUDA (if available)"
   ],
   "id": "30c72979b7bbf72f",
   "outputs": [],
   "execution_count": 16
  },
  {
   "metadata": {
    "ExecuteTime": {
     "end_time": "2025-10-09T09:15:23.605869Z",
     "start_time": "2025-10-09T09:15:23.591073Z"
    }
   },
   "cell_type": "code",
   "source": [
    "# Now we can perform computations on GPU\n",
    "\n",
    "a = torch.randn(100, 100).to(device) # Send to GPU\n",
    "b = torch.clone(a).to(device) # Send to GPU\n",
    "c = (a + b) # This happens on the GPU\n",
    "print(c.device)\n",
    "c = c.detach().cpu() # First we detach the Gradient, then we move back to CPU\n",
    "print(c)\n",
    "print(c.device)"
   ],
   "id": "49aee43a394744b9",
   "outputs": [
    {
     "name": "stdout",
     "output_type": "stream",
     "text": [
      "cpu\n",
      "tensor([[-5.0010,  1.5383, -0.2532,  ..., -3.2335,  0.8548, -0.9914],\n",
      "        [ 2.0098, -1.8367,  2.4345,  ...,  0.0708, -2.0784, -1.7096],\n",
      "        [ 3.9065,  2.1775,  3.2484,  ...,  2.8445,  0.1775, -1.4359],\n",
      "        ...,\n",
      "        [-0.3452,  0.6202,  0.3127,  ..., -2.5344, -1.1518,  0.2549],\n",
      "        [-0.2588,  1.8827, -0.8011,  ...,  0.0194, -2.0182,  0.6634],\n",
      "        [-0.2366,  0.5906,  0.5667,  ..., -3.3740, -5.3911,  0.7234]])\n",
      "cpu\n"
     ]
    }
   ],
   "execution_count": 20
  },
  {
   "metadata": {},
   "cell_type": "markdown",
   "source": "## Reshaping Tensors",
   "id": "f585f27fbba4369a"
  },
  {
   "metadata": {
    "ExecuteTime": {
     "end_time": "2025-10-09T09:17:54.897834Z",
     "start_time": "2025-10-09T09:17:54.886072Z"
    }
   },
   "cell_type": "code",
   "source": [
    "t = torch.arange(0, 10, step=1)\n",
    "t"
   ],
   "id": "2450a81e15ebc37",
   "outputs": [
    {
     "data": {
      "text/plain": [
       "tensor([0, 1, 2, 3, 4, 5, 6, 7, 8, 9])"
      ]
     },
     "execution_count": 24,
     "metadata": {},
     "output_type": "execute_result"
    }
   ],
   "execution_count": 24
  },
  {
   "metadata": {
    "ExecuteTime": {
     "end_time": "2025-10-09T09:20:30.224149Z",
     "start_time": "2025-10-09T09:20:30.214979Z"
    }
   },
   "cell_type": "code",
   "source": [
    "t2a = t.view(2, -1) # This requires t to be contiguous in memory (shallow copy)\n",
    "t2b = t.reshape(2, -1) # Same as before, but without the requirement (if not contiguous, create a deep copy)\n",
    "\n",
    "t2a, t2b"
   ],
   "id": "7fbdc77243ff9345",
   "outputs": [
    {
     "data": {
      "text/plain": [
       "(tensor([[0, 1, 2, 3, 4],\n",
       "         [5, 6, 7, 8, 9]]),\n",
       " tensor([[0, 1, 2, 3, 4],\n",
       "         [5, 6, 7, 8, 9]]))"
      ]
     },
     "execution_count": 31,
     "metadata": {},
     "output_type": "execute_result"
    }
   ],
   "execution_count": 31
  },
  {
   "metadata": {
    "ExecuteTime": {
     "end_time": "2025-10-09T09:23:16.658894Z",
     "start_time": "2025-10-09T09:23:16.529604Z"
    }
   },
   "cell_type": "code",
   "source": [
    "x = torch.randn(2, 4, 8) # 2x4x8 is the shape\n",
    "z = x[:, ::2] # Take first dimension as before; take one-every-two for second dimension\n",
    "print(z.shape) # Now z is not contiguous\n",
    "z.view(-1) # fails"
   ],
   "id": "206178bbb36d46b9",
   "outputs": [
    {
     "name": "stdout",
     "output_type": "stream",
     "text": [
      "torch.Size([2, 2, 8])\n"
     ]
    },
    {
     "ename": "RuntimeError",
     "evalue": "view size is not compatible with input tensor's size and stride (at least one dimension spans across two contiguous subspaces). Use .reshape(...) instead.",
     "output_type": "error",
     "traceback": [
      "\u001B[31m---------------------------------------------------------------------------\u001B[39m",
      "\u001B[31mRuntimeError\u001B[39m                              Traceback (most recent call last)",
      "\u001B[36mCell\u001B[39m\u001B[36m \u001B[39m\u001B[32mIn[38]\u001B[39m\u001B[32m, line 4\u001B[39m\n\u001B[32m      2\u001B[39m z = x[:, ::\u001B[32m2\u001B[39m] \u001B[38;5;66;03m# Take first dimension as before; take one-every-two for second dimension\u001B[39;00m\n\u001B[32m      3\u001B[39m \u001B[38;5;28mprint\u001B[39m(z.shape) \u001B[38;5;66;03m# Now z is not contiguous\u001B[39;00m\n\u001B[32m----> \u001B[39m\u001B[32m4\u001B[39m \u001B[43mz\u001B[49m\u001B[43m.\u001B[49m\u001B[43mview\u001B[49m\u001B[43m(\u001B[49m\u001B[43m-\u001B[49m\u001B[32;43m1\u001B[39;49m\u001B[43m)\u001B[49m \u001B[38;5;66;03m# fails\u001B[39;00m\n",
      "\u001B[31mRuntimeError\u001B[39m: view size is not compatible with input tensor's size and stride (at least one dimension spans across two contiguous subspaces). Use .reshape(...) instead."
     ]
    }
   ],
   "execution_count": 38
  },
  {
   "metadata": {
    "ExecuteTime": {
     "end_time": "2025-10-09T09:24:53.444423Z",
     "start_time": "2025-10-09T09:24:53.439896Z"
    }
   },
   "cell_type": "code",
   "source": [
    "# Other reshaping functions...\n",
    "\n",
    "# squeeze\n",
    "# unsqueeze\n",
    "# expand\n",
    "# transpose\n",
    "# permute\n",
    "# reshape"
   ],
   "id": "709ce35340676195",
   "outputs": [],
   "execution_count": 41
  },
  {
   "metadata": {},
   "cell_type": "markdown",
   "source": "## Operations on Tensors",
   "id": "f72ca6e7b271b229"
  },
  {
   "metadata": {
    "ExecuteTime": {
     "end_time": "2025-10-09T09:25:39.662387Z",
     "start_time": "2025-10-09T09:25:39.654731Z"
    }
   },
   "cell_type": "code",
   "source": [
    "print(t)\n",
    "print(t + t)\n",
    "print(t - t)\n",
    "print(t * t)\n",
    "print(t / t)"
   ],
   "id": "facf7016e5a07cfb",
   "outputs": [
    {
     "name": "stdout",
     "output_type": "stream",
     "text": [
      "tensor([0, 1, 2, 3, 4, 5, 6, 7, 8, 9])\n",
      "tensor([ 0,  2,  4,  6,  8, 10, 12, 14, 16, 18])\n",
      "tensor([0, 0, 0, 0, 0, 0, 0, 0, 0, 0])\n",
      "tensor([ 0,  1,  4,  9, 16, 25, 36, 49, 64, 81])\n",
      "tensor([nan, 1., 1., 1., 1., 1., 1., 1., 1., 1.])\n"
     ]
    }
   ],
   "execution_count": 45
  },
  {
   "metadata": {
    "ExecuteTime": {
     "end_time": "2025-10-09T09:25:53.149448Z",
     "start_time": "2025-10-09T09:25:53.092685Z"
    }
   },
   "cell_type": "code",
   "source": "t.log()",
   "id": "ca542a7458f6f803",
   "outputs": [
    {
     "data": {
      "text/plain": [
       "tensor([  -inf, 0.0000, 0.6931, 1.0986, 1.3863, 1.6094, 1.7918, 1.9459, 2.0794,\n",
       "        2.1972])"
      ]
     },
     "execution_count": 46,
     "metadata": {},
     "output_type": "execute_result"
    }
   ],
   "execution_count": 46
  },
  {
   "metadata": {
    "ExecuteTime": {
     "end_time": "2025-10-09T09:25:59.284192Z",
     "start_time": "2025-10-09T09:25:59.274399Z"
    }
   },
   "cell_type": "code",
   "source": "t.exp()",
   "id": "660e2168504480c6",
   "outputs": [
    {
     "data": {
      "text/plain": [
       "tensor([1.0000e+00, 2.7183e+00, 7.3891e+00, 2.0086e+01, 5.4598e+01, 1.4841e+02,\n",
       "        4.0343e+02, 1.0966e+03, 2.9810e+03, 8.1031e+03])"
      ]
     },
     "execution_count": 47,
     "metadata": {},
     "output_type": "execute_result"
    }
   ],
   "execution_count": 47
  },
  {
   "metadata": {
    "ExecuteTime": {
     "end_time": "2025-10-09T09:26:03.639254Z",
     "start_time": "2025-10-09T09:26:03.625186Z"
    }
   },
   "cell_type": "code",
   "source": "t.sqrt()",
   "id": "9ab40f6d88f62d2b",
   "outputs": [
    {
     "data": {
      "text/plain": [
       "tensor([0.0000, 1.0000, 1.4142, 1.7321, 2.0000, 2.2361, 2.4495, 2.6458, 2.8284,\n",
       "        3.0000])"
      ]
     },
     "execution_count": 48,
     "metadata": {},
     "output_type": "execute_result"
    }
   ],
   "execution_count": 48
  },
  {
   "metadata": {
    "ExecuteTime": {
     "end_time": "2025-10-09T09:26:06.891314Z",
     "start_time": "2025-10-09T09:26:06.883888Z"
    }
   },
   "cell_type": "code",
   "source": "t.pow(3)",
   "id": "687c0463ee8434cd",
   "outputs": [
    {
     "data": {
      "text/plain": [
       "tensor([  0,   1,   8,  27,  64, 125, 216, 343, 512, 729])"
      ]
     },
     "execution_count": 49,
     "metadata": {},
     "output_type": "execute_result"
    }
   ],
   "execution_count": 49
  },
  {
   "metadata": {
    "ExecuteTime": {
     "end_time": "2025-10-09T09:28:11.576861Z",
     "start_time": "2025-10-09T09:28:11.568124Z"
    }
   },
   "cell_type": "code",
   "source": [
    "t = torch.Tensor([2, 4, 6])\n",
    "y = torch.randn(2, 2)\n",
    "\n",
    "y"
   ],
   "id": "1ab2b4cbb7b5341f",
   "outputs": [
    {
     "data": {
      "text/plain": [
       "tensor([[-0.1564,  2.5631],\n",
       "        [-0.1746,  0.5348]])"
      ]
     },
     "execution_count": 54,
     "metadata": {},
     "output_type": "execute_result"
    }
   ],
   "execution_count": 54
  },
  {
   "metadata": {
    "ExecuteTime": {
     "end_time": "2025-10-09T09:29:15.712917Z",
     "start_time": "2025-10-09T09:29:15.702334Z"
    }
   },
   "cell_type": "code",
   "source": "torch.matmul(y, y) # y squared",
   "id": "bb83f24ec539378f",
   "outputs": [
    {
     "data": {
      "text/plain": [
       "tensor([[-0.4231,  0.9701],\n",
       "        [-0.0661, -0.1615]])"
      ]
     },
     "execution_count": 59,
     "metadata": {},
     "output_type": "execute_result"
    }
   ],
   "execution_count": 59
  },
  {
   "metadata": {
    "ExecuteTime": {
     "end_time": "2025-10-09T09:29:20.083539Z",
     "start_time": "2025-10-09T09:29:20.076686Z"
    }
   },
   "cell_type": "code",
   "source": "torch.matmul(t, t)",
   "id": "8077deca8fc2f909",
   "outputs": [
    {
     "data": {
      "text/plain": [
       "tensor(56.)"
      ]
     },
     "execution_count": 60,
     "metadata": {},
     "output_type": "execute_result"
    }
   ],
   "execution_count": 60
  },
  {
   "metadata": {
    "ExecuteTime": {
     "end_time": "2025-10-09T09:29:33.436776Z",
     "start_time": "2025-10-09T09:29:33.389932Z"
    }
   },
   "cell_type": "code",
   "source": "torch.matmul(t, y)",
   "id": "70beff0b94f2938a",
   "outputs": [
    {
     "ename": "RuntimeError",
     "evalue": "mat1 and mat2 shapes cannot be multiplied (1x3 and 2x2)",
     "output_type": "error",
     "traceback": [
      "\u001B[31m---------------------------------------------------------------------------\u001B[39m",
      "\u001B[31mRuntimeError\u001B[39m                              Traceback (most recent call last)",
      "\u001B[36mCell\u001B[39m\u001B[36m \u001B[39m\u001B[32mIn[62]\u001B[39m\u001B[32m, line 1\u001B[39m\n\u001B[32m----> \u001B[39m\u001B[32m1\u001B[39m \u001B[43mtorch\u001B[49m\u001B[43m.\u001B[49m\u001B[43mmatmul\u001B[49m\u001B[43m(\u001B[49m\u001B[43mt\u001B[49m\u001B[43m,\u001B[49m\u001B[43m \u001B[49m\u001B[43my\u001B[49m\u001B[43m)\u001B[49m\n",
      "\u001B[31mRuntimeError\u001B[39m: mat1 and mat2 shapes cannot be multiplied (1x3 and 2x2)"
     ]
    }
   ],
   "execution_count": 62
  },
  {
   "metadata": {},
   "cell_type": "code",
   "outputs": [],
   "execution_count": null,
   "source": "",
   "id": "eac2950ef540d3f5"
  },
  {
   "metadata": {},
   "cell_type": "markdown",
   "source": [
    "## Pratice\n",
    "\n",
    "1. Create a 2D tensor and add a batch dimension of size 1\n",
    "2. Create a random tensor of shape 5x3 in the interval [3, 7)\n",
    "3. Create a tensor with values from a normal with mean=0, std=3\n",
    "4. Perform a batch product between 3D tensors\n",
    "5. Return a batch matrix product between a 3D tensor and a 2D tensor"
   ],
   "id": "a28f541e6e4757a"
  },
  {
   "metadata": {},
   "cell_type": "code",
   "outputs": [],
   "execution_count": null,
   "source": "# TODO",
   "id": "b60630c6080049cf"
  },
  {
   "metadata": {},
   "cell_type": "markdown",
   "source": "# Deep Learning with Pytorch",
   "id": "485903a2954b0905"
  },
  {
   "metadata": {
    "ExecuteTime": {
     "end_time": "2025-10-09T09:53:51.964820Z",
     "start_time": "2025-10-09T09:53:51.927717Z"
    }
   },
   "cell_type": "code",
   "source": [
    "# Let's assume a simple Neural Network computing: y = log((w * x) + b)\n",
    "# Input Function: weighted sum (w * x + b)\n",
    "# Activation Function: log (very unusual)\n",
    "\n",
    "x = torch.tensor([[1.,2.]])\n",
    "w = torch.tensor([[3.,4.]], requires_grad=True)\n",
    "b = torch.tensor(3., requires_grad=True)\n",
    "\n",
    "y = torch.log((x @ w.T) + b)\n",
    "\n",
    "y.backward()\n",
    "\n",
    "# Print gradients\n",
    "print(\"dy/dw:\", w.grad)\n",
    "print(\"dy/db\",  b.grad)"
   ],
   "id": "c9a6a6fb9d2a732a",
   "outputs": [
    {
     "name": "stdout",
     "output_type": "stream",
     "text": [
      "dy/dw: tensor([[0.0714, 0.1429]])\n",
      "dy/db tensor(0.0714)\n"
     ]
    }
   ],
   "execution_count": 72
  },
  {
   "metadata": {},
   "cell_type": "markdown",
   "source": "![Forward and Backward Passes](img/pytorch-01.jpeg)\n",
   "id": "7913c5c4eaf4e776"
  },
  {
   "metadata": {
    "ExecuteTime": {
     "end_time": "2025-10-09T10:00:01.804193Z",
     "start_time": "2025-10-09T10:00:01.798533Z"
    }
   },
   "cell_type": "code",
   "source": "#torchviz.make_dot(y) # Requires GraphViz (doesn't work as of now)",
   "id": "16bf4f8d3b5a41a",
   "outputs": [],
   "execution_count": 73
  },
  {
   "metadata": {
    "ExecuteTime": {
     "end_time": "2025-10-09T10:04:12.498194Z",
     "start_time": "2025-10-09T10:04:12.492422Z"
    }
   },
   "cell_type": "code",
   "source": [
    "# Our Dataset:\n",
    "inputs = torch.randn(5, 2)\n",
    "targets = torch.tensor([1, 1, 1, 0, 0], dtype=torch.float32)"
   ],
   "id": "4b97e9edf800c578",
   "outputs": [],
   "execution_count": 76
  },
  {
   "metadata": {
    "ExecuteTime": {
     "end_time": "2025-10-09T10:05:47.780211Z",
     "start_time": "2025-10-09T10:05:47.772827Z"
    }
   },
   "cell_type": "code",
   "source": [
    "# Build the Model\n",
    "def SimpleNNModel(inputs, weight, bias):\n",
    "    logits = inputs @ weight + bias         # linear layer\n",
    "    activations = torch.sigmoid(logits)     # activation layer\n",
    "    return activations"
   ],
   "id": "25f908569b29764c",
   "outputs": [],
   "execution_count": 80
  },
  {
   "metadata": {
    "ExecuteTime": {
     "end_time": "2025-10-09T10:05:48.233827Z",
     "start_time": "2025-10-09T10:05:48.226281Z"
    }
   },
   "cell_type": "code",
   "source": [
    "# Initialize the model\n",
    "weight = torch.randn(inputs.size(-1), requires_grad=True)\n",
    "bias   = torch.ones(1, requires_grad=True)"
   ],
   "id": "6db121ebd7435a12",
   "outputs": [],
   "execution_count": 81
  },
  {
   "metadata": {
    "ExecuteTime": {
     "end_time": "2025-10-09T10:05:48.581082Z",
     "start_time": "2025-10-09T10:05:48.576218Z"
    }
   },
   "cell_type": "code",
   "source": [
    "def BinaryCrossEntropyLoss(y_pred, y_true):\n",
    "    return (-y_true * torch.log(y_pred) - (1-y_true) * torch.log(1-y_pred)).mean()"
   ],
   "id": "1e92222ad2008fb8",
   "outputs": [],
   "execution_count": 82
  },
  {
   "metadata": {
    "ExecuteTime": {
     "end_time": "2025-10-09T10:10:20.604726Z",
     "start_time": "2025-10-09T10:10:20.590899Z"
    }
   },
   "cell_type": "code",
   "source": [
    "# Performing SGD:\n",
    "\n",
    "print(\"Wieghts before iteration:\", weight)\n",
    "\n",
    "# Model\n",
    "predictions = SimpleNNModel(inputs, weight=weight, bias=bias)\n",
    "#print(predictions)\n",
    "\n",
    "# Loss\n",
    "error = BinaryCrossEntropyLoss(predictions, targets)\n",
    "#print(error.item())\n",
    "\n",
    "# Gradient\n",
    "error.backward() # Computes gradients\n",
    "#print(weight.grad, bias.grad)\n",
    "\n",
    "# Update Params\n",
    "lr = 0.001\n",
    "with torch.no_grad():\n",
    "    weight -= weight.grad * lr\n",
    "    bias -= bias.grad * lr\n",
    "\n",
    "# Reset gradients\n",
    "weight.grad.zero_()\n",
    "bias.grad.zero_()\n",
    "\n",
    "print(\"Wieghts after iteration:\", weight)"
   ],
   "id": "6d0b8c5686ca484f",
   "outputs": [
    {
     "name": "stdout",
     "output_type": "stream",
     "text": [
      "Wieghts before iteration: tensor([ 0.9433, -0.6566], requires_grad=True)\n",
      "Wieghts after iteration: tensor([ 0.9430, -0.6561], requires_grad=True)\n"
     ]
    }
   ],
   "execution_count": 95
  },
  {
   "metadata": {
    "ExecuteTime": {
     "end_time": "2025-10-09T10:06:02.286131Z",
     "start_time": "2025-10-09T10:06:02.281398Z"
    }
   },
   "cell_type": "code",
   "source": "",
   "id": "ffde0e635f43ce62",
   "outputs": [],
   "execution_count": null
  }
 ],
 "metadata": {
  "kernelspec": {
   "display_name": "Python 3",
   "language": "python",
   "name": "python3"
  },
  "language_info": {
   "codemirror_mode": {
    "name": "ipython",
    "version": 2
   },
   "file_extension": ".py",
   "mimetype": "text/x-python",
   "name": "python",
   "nbconvert_exporter": "python",
   "pygments_lexer": "ipython2",
   "version": "2.7.6"
  }
 },
 "nbformat": 4,
 "nbformat_minor": 5
}
