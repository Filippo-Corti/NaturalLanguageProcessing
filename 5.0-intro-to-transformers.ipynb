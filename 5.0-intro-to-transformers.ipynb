{
 "cells": [
  {
   "metadata": {},
   "cell_type": "markdown",
   "source": "# Transformers (Attention is All You Need)",
   "id": "37e197022d32d0"
  },
  {
   "cell_type": "code",
   "id": "initial_id",
   "metadata": {
    "collapsed": true,
    "ExecuteTime": {
     "end_time": "2025-10-30T10:13:05.036255Z",
     "start_time": "2025-10-30T10:13:04.277766Z"
    }
   },
   "source": [
    "import math\n",
    "from dataclasses import dataclass\n",
    "import torch\n",
    "import torch.nn as nn\n",
    "import torch.nn.functional as F\n",
    "import matplotlib.pyplot as plt"
   ],
   "outputs": [],
   "execution_count": 2
  },
  {
   "metadata": {
    "ExecuteTime": {
     "end_time": "2025-10-30T10:26:03.682947Z",
     "start_time": "2025-10-30T10:26:03.658578Z"
    }
   },
   "cell_type": "code",
   "source": [
    "@dataclass\n",
    "class Config:\n",
    "    d_model: int = 4\n",
    "    n_heads: int = 1  # single head for clarity\n",
    "    d_ff: int = 8\n",
    "    vocab_size: int = 10\n",
    "    max_len: int = 8\n",
    "    num_layers: int = 1\n",
    "    device: str = \"cpu\"\n",
    "    lr: float = 0.02\n",
    "    steps: int = 200  # adjust if you want it faster/slower\n",
    "    seed: int = 0\n",
    "\n",
    "\n",
    "cfg = Config()\n",
    "torch.manual_seed(cfg.seed)\n",
    "\n",
    "\n",
    "def causal_mask(seq_len):\n",
    "    mask = torch.ones(seq_len, seq_len, dtype=torch.bool).tril()\n",
    "    return mask.view(1, 1, seq_len, seq_len)"
   ],
   "id": "8bebcd7b7e5520ea",
   "outputs": [],
   "execution_count": 14
  },
  {
   "metadata": {
    "ExecuteTime": {
     "end_time": "2025-10-30T10:13:06.315960Z",
     "start_time": "2025-10-30T10:13:06.301694Z"
    }
   },
   "cell_type": "code",
   "source": [
    "class SingleHeadSelfAttention(nn.Module):\n",
    "    def __init__(self, d_model):\n",
    "        super().__init__()\n",
    "        self.W_q = nn.Linear(d_model, d_model, bias=False)\n",
    "        self.W_k = nn.Linear(d_model, d_model, bias=False)\n",
    "        self.W_v = nn.Linear(d_model, d_model, bias=False)\n",
    "        self.W_o = nn.Linear(d_model, d_model, bias=False)\n",
    "        self.last_attn = None  # store for visualization\n",
    "\n",
    "    def forward(self, x, attn_mask=None, store_attn=False):\n",
    "        B, T, D = x.shape\n",
    "        Q = self.W_q(x)\n",
    "        K = self.W_k(x)\n",
    "        V = self.W_v(x)\n",
    "        scores = (Q @ K.transpose(-2, -1)) / math.sqrt(D)  # [B,T,T]\n",
    "        if attn_mask is not None:\n",
    "            scores = scores.masked_fill(~attn_mask.squeeze(1), float(\"-inf\"))\n",
    "        attn = torch.softmax(scores, dim=-1)\n",
    "        out = attn @ V\n",
    "        out = self.W_o(out)\n",
    "        if store_attn:\n",
    "            self.last_attn = attn[0].detach().cpu()\n",
    "        return out"
   ],
   "id": "e465638cfe55c494",
   "outputs": [],
   "execution_count": 4
  },
  {
   "metadata": {
    "ExecuteTime": {
     "end_time": "2025-10-30T10:13:06.878088Z",
     "start_time": "2025-10-30T10:13:06.870866Z"
    }
   },
   "cell_type": "code",
   "source": [
    "class FeedForward(nn.Module):\n",
    "    def __init__(self, d_model, d_ff):\n",
    "        super().__init__()\n",
    "        self.fc1 = nn.Linear(d_model, d_ff)\n",
    "        self.fc2 = nn.Linear(d_ff, d_model)\n",
    "\n",
    "    def forward(self, x):\n",
    "        return self.fc2(F.gelu(self.fc1(x)))"
   ],
   "id": "76b4c1d6c58206f1",
   "outputs": [],
   "execution_count": 5
  },
  {
   "metadata": {
    "ExecuteTime": {
     "end_time": "2025-10-30T10:13:07.397300Z",
     "start_time": "2025-10-30T10:13:07.387041Z"
    }
   },
   "cell_type": "code",
   "source": [
    "class TinyTransformerBlock(nn.Module):\n",
    "    def __init__(self, d_model, d_ff):\n",
    "        super().__init__()\n",
    "        self.ln1 = nn.LayerNorm(d_model)\n",
    "        self.sa = SingleHeadSelfAttention(d_model)\n",
    "        self.ln2 = nn.LayerNorm(d_model)\n",
    "        self.ffn = FeedForward(d_model, d_ff)\n",
    "\n",
    "    def forward(self, x, attn_mask=None, store_attn=False):\n",
    "        x = x + self.sa(self.ln1(x), attn_mask=attn_mask, store_attn=store_attn)\n",
    "        x = x + self.ffn(self.ln2(x))\n",
    "        return x"
   ],
   "id": "1b962ab7c19f9462",
   "outputs": [],
   "execution_count": 6
  },
  {
   "metadata": {
    "ExecuteTime": {
     "end_time": "2025-10-30T10:13:08.144043Z",
     "start_time": "2025-10-30T10:13:08.128808Z"
    }
   },
   "cell_type": "code",
   "source": [
    "class TinyTransformer(nn.Module):\n",
    "    def __init__(self, cfg: Config):\n",
    "        super().__init__()\n",
    "        self.tok_emb = nn.Embedding(cfg.vocab_size, cfg.d_model)\n",
    "        self.pos_emb = nn.Embedding(cfg.max_len, cfg.d_model)  # We are going to learn positional embedding\n",
    "        self.blocks = nn.ModuleList([TinyTransformerBlock(cfg.d_model, cfg.d_ff) for _ in range(cfg.num_layers)])\n",
    "        self.ln_f = nn.LayerNorm(cfg.d_model)\n",
    "        self.head = nn.Linear(cfg.d_model, cfg.vocab_size)\n",
    "\n",
    "    def forward(self, idx, store_attn=False):\n",
    "        B, T = idx.shape\n",
    "        pos = torch.arange(T, device=idx.device).unsqueeze(0).expand(B, T)\n",
    "        x = self.tok_emb(idx) + self.pos_emb(pos)\n",
    "        mask = causal_mask(T).to(idx.device)\n",
    "        for i, block in enumerate(self.blocks):\n",
    "            x = block(x, attn_mask=mask, store_attn=(store_attn and i == len(self.blocks) - 1))\n",
    "        x = self.ln_f(x)\n",
    "        return self.head(x)\n",
    "\n",
    "    def last_attention(self):\n",
    "        return self.blocks[-1].sa.last_attn"
   ],
   "id": "8e4fa3d5f60ea130",
   "outputs": [],
   "execution_count": 7
  },
  {
   "metadata": {},
   "cell_type": "markdown",
   "source": [
    "### Task\n",
    "\n",
    "We are trying to learn to count:\n",
    "* Given 0, we expect 1\n",
    "* Given 1, we expect 2\n",
    "* ..."
   ],
   "id": "d6a4f68dd495ade4"
  },
  {
   "metadata": {
    "ExecuteTime": {
     "end_time": "2025-10-30T10:25:45.190080Z",
     "start_time": "2025-10-30T10:25:45.183888Z"
    }
   },
   "cell_type": "code",
   "source": [
    "# tiny next-token prediction sequences\n",
    "base = torch.tensor([[0, 1, 2, 3, 4, 5], [1, 2, 3, 4, 5, 6]], dtype=torch.long)\n",
    "targets = torch.tensor([[1, 2, 3, 4, 5, 6], [2, 3, 4, 5, 6, 7]], dtype=torch.long)"
   ],
   "id": "38c872886a1bf9c0",
   "outputs": [],
   "execution_count": 11
  },
  {
   "metadata": {},
   "cell_type": "markdown",
   "source": [
    "This is not a good task for a couple reasons:\n",
    "* We do not have ambiguity in the next token\n",
    "* We only really care about the previous word, not the entire sequence\n",
    "  * Attention is not really needed! (We can see from the plot that we are basically looking at the last token)\n",
    "\n"
   ],
   "id": "c72b7bf5c057132"
  },
  {
   "metadata": {
    "ExecuteTime": {
     "end_time": "2025-10-30T10:26:08.016120Z",
     "start_time": "2025-10-30T10:26:08.009120Z"
    }
   },
   "cell_type": "code",
   "source": [
    "# tiny next-token prediction sequences\n",
    "base = torch.tensor([[0, 1, 2, 3, 4, 5], [1, 2, 3, 4, 5, 6]], dtype=torch.long)\n",
    "targets = torch.tensor([[2, 3, 4, 5, 6, 8], [3, 4, 5, 6, 8, 9]], dtype=torch.long)"
   ],
   "id": "5daf150f277a6f23",
   "outputs": [],
   "execution_count": 15
  },
  {
   "metadata": {
    "ExecuteTime": {
     "end_time": "2025-10-30T10:26:12.768502Z",
     "start_time": "2025-10-30T10:26:08.715568Z"
    }
   },
   "cell_type": "code",
   "source": [
    "model = TinyTransformer(cfg).to(cfg.device)\n",
    "opt = torch.optim.AdamW(model.parameters(), lr=cfg.lr)\n",
    "\n",
    "# Training a Transformers is done just like any other Model\n",
    "loss_history = []\n",
    "for step in range(cfg.steps):\n",
    "    logits = model(base, store_attn=(step == cfg.steps-1))\n",
    "    loss = F.cross_entropy(logits.view(-1, cfg.vocab_size), targets.view(-1))\n",
    "    opt.zero_grad(); loss.backward(); opt.step()\n",
    "    loss_history.append(loss.item())\n",
    "\n",
    "total_params = sum(p.numel() for p in model.parameters())\n",
    "print(f\"Total parameters: {total_params}\") # Grows very fast\n",
    "print(f\"Final training loss: {loss_history[-1]:.4f}\")"
   ],
   "id": "85e792dec231d84",
   "outputs": [
    {
     "name": "stdout",
     "output_type": "stream",
     "text": [
      "Total parameters: 286\n",
      "Final training loss: 0.0045\n"
     ]
    }
   ],
   "execution_count": 16
  },
  {
   "metadata": {
    "ExecuteTime": {
     "end_time": "2025-10-30T10:26:15.883494Z",
     "start_time": "2025-10-30T10:26:15.349651Z"
    }
   },
   "cell_type": "code",
   "source": [
    "# 1) Loss curve\n",
    "plt.figure()\n",
    "plt.plot(loss_history)\n",
    "plt.title(\"Training loss\")\n",
    "plt.xlabel(\"Step\")\n",
    "plt.ylabel(\"Cross-entropy loss\")\n",
    "plt.show()\n",
    "\n",
    "# 2) Attention heatmap from last forward pass\n",
    "attn = model.last_attention()\n",
    "if attn is not None:\n",
    "    plt.figure()\n",
    "    plt.imshow(attn)\n",
    "    plt.title(\"Attention weights (token attends to columns)\")\n",
    "    plt.xlabel(\"Key positions (0..T-1)\")\n",
    "    plt.ylabel(\"Query positions (0..T-1)\")\n",
    "    plt.colorbar()\n",
    "    plt.show()\n",
    "else:\n",
    "    print(\"No stored attention to visualize.\")"
   ],
   "id": "cc59bc2222cd7592",
   "outputs": [
    {
     "data": {
      "text/plain": [
       "<Figure size 640x480 with 1 Axes>"
      ],
      "image/png": "[encoded data removed]"
     },
     "metadata": {},
     "output_type": "display_data",
     "jetTransient": {
      "display_id": null
     }
    },
    {
     "data": {
      "text/plain": [
       "<Figure size 640x480 with 2 Axes>"
      ],
      "image/png": "[encoded data removed]"
     },
     "metadata": {},
     "output_type": "display_data",
     "jetTransient": {
      "display_id": null
     }
    }
   ],
   "execution_count": 17
  },
  {
   "metadata": {},
   "cell_type": "code",
   "outputs": [],
   "execution_count": null,
   "source": "",
   "id": "1b36fc49c802fbe4"
  }
 ],
 "metadata": {
  "kernelspec": {
   "display_name": "Python 3",
   "language": "python",
   "name": "python3"
  },
  "language_info": {
   "codemirror_mode": {
    "name": "ipython",
    "version": 2
   },
   "file_extension": ".py",
   "mimetype": "text/x-python",
   "name": "python",
   "nbconvert_exporter": "python",
   "pygments_lexer": "ipython2",
   "version": "2.7.6"
  }
 },
 "nbformat": 4,
 "nbformat_minor": 5
}
