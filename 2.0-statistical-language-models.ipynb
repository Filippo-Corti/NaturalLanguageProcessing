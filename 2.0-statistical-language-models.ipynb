{
 "cells": [
  {
   "metadata": {},
   "cell_type": "markdown",
   "source": [
    "# Statistical Language Models (Markov LM)\n",
    "\n"
   ],
   "id": "fffa7fe9721d4e29"
  },
  {
   "metadata": {
    "ExecuteTime": {
     "end_time": "2025-10-14T15:09:58.877237Z",
     "start_time": "2025-10-14T15:09:58.865656Z"
    }
   },
   "cell_type": "code",
   "source": [
    "import pymongo\n",
    "import copy\n",
    "\n",
    "from utils.markov_lm import MarkovLM"
   ],
   "id": "10eff8685b7f909f",
   "outputs": [],
   "execution_count": 3
  },
  {
   "metadata": {
    "ExecuteTime": {
     "end_time": "2025-10-14T15:15:33.808657Z",
     "start_time": "2025-10-14T15:15:33.793084Z"
    }
   },
   "cell_type": "code",
   "source": [
    "db = pymongo.MongoClient()['cousine']\n",
    "recipes = db['foodcom']"
   ],
   "id": "c8269c533cccaf47",
   "outputs": [],
   "execution_count": 4
  },
  {
   "metadata": {
    "ExecuteTime": {
     "end_time": "2025-10-14T15:15:34.815885Z",
     "start_time": "2025-10-14T15:15:34.488914Z"
    }
   },
   "cell_type": "code",
   "source": [
    "def create_corpus(query:  dict = {}, numdocs: int = 3000):\n",
    "    corpus = []\n",
    "    for recipe in recipes.find(query).limit(numdocs):\n",
    "        for sentence in recipe['steps']:\n",
    "            corpus.append(sentence)\n",
    "    return corpus\n",
    "\n",
    "numdocs = 3000\n",
    "corpus = create_corpus(query={}, numdocs=numdocs)\n",
    "print(f\"Corpus size: {len(corpus)}\")\n",
    "for text in corpus[:4]:\n",
    "    print(text)"
   ],
   "id": "b98687b15e307311",
   "outputs": [
    {
     "name": "stdout",
     "output_type": "stream",
     "text": [
      "Corpus size: 20805\n",
      "To prepare ravioli, place mushrooms in food processor; pulse 10 times or until finely chopped.\n",
      "Heat oil and butter in a large nonstick skillet over medium-high heat. Add shallots and garlic, and sauté for 2 minutes.\n",
      "Add mushrooms and 1/8 teaspoon salt; cook 5 minutes or until moisture evaporates, stirring occasionally.\n",
      "Working with 1 wonton wrapper at a time (cover remaining wrappers with a damp towel to keep them from drying), spoon about 2 teaspoons mushroom mixture into center of each wrapper.\n"
     ]
    }
   ],
   "execution_count": 5
  },
  {
   "metadata": {
    "ExecuteTime": {
     "end_time": "2025-10-14T15:15:35.515600Z",
     "start_time": "2025-10-14T15:15:35.510527Z"
    }
   },
   "cell_type": "code",
   "source": "tokenizer = \"bert-base-uncased\"",
   "id": "2da1694f2d4e5c4c",
   "outputs": [],
   "execution_count": 6
  },
  {
   "metadata": {},
   "cell_type": "markdown",
   "source": "## 1. Text Generation using a Markov Language Model",
   "id": "3b9087cbe8d496b3"
  },
  {
   "metadata": {
    "ExecuteTime": {
     "end_time": "2025-10-14T15:16:34.268765Z",
     "start_time": "2025-10-14T15:16:30.587611Z"
    }
   },
   "cell_type": "code",
   "source": [
    "tokenizer = \"bert-base-uncased\"\n",
    "brlm = MarkovLM(k=2, tokenizer_model=tokenizer) # Bi-grams\n",
    "frlm = MarkovLM(k=4, tokenizer_model=tokenizer) # Four-grams"
   ],
   "id": "4caa3c938e359254",
   "outputs": [],
   "execution_count": 7
  },
  {
   "metadata": {
    "ExecuteTime": {
     "end_time": "2025-10-14T15:16:58.378050Z",
     "start_time": "2025-10-14T15:16:41.131750Z"
    }
   },
   "cell_type": "code",
   "source": [
    "brlm.train(corpus=corpus)\n",
    "frlm.train(corpus=corpus)"
   ],
   "id": "62521aff6e1e1ee",
   "outputs": [
    {
     "name": "stderr",
     "output_type": "stream",
     "text": [
      "100%|██████████| 20805/20805 [00:07<00:00, 2721.07it/s]\n",
      "100%|██████████| 20805/20805 [00:09<00:00, 2170.45it/s]\n"
     ]
    }
   ],
   "execution_count": 8
  },
  {
   "metadata": {
    "ExecuteTime": {
     "end_time": "2025-10-14T15:17:01.505211Z",
     "start_time": "2025-10-14T15:17:01.460887Z"
    }
   },
   "cell_type": "code",
   "source": [
    "print(\"2gram: \", \" \".join(brlm.generate()).replace(\" ##\", \"\"))\n",
    "print(\"4gram: \", \" \".join(frlm.generate()).replace(\" ##\", \"\"))"
   ],
   "id": "c59291e5bf60e67a",
   "outputs": [
    {
     "name": "stdout",
     "output_type": "stream",
     "text": [
      "2gram:  [#S] for a richer characteristic ! [#E]\n",
      "4gram:  [#S] [#S] [#S] dip chicken cutlets in batches , grind the cacao nibs , pumpkin seeds , sesame seeds , flaxseed , chia seed , oregano & amp ; parmesan cheese . [#E]\n"
     ]
    }
   ],
   "execution_count": 9
  },
  {
   "metadata": {},
   "cell_type": "markdown",
   "source": "## 2. Text Classification using a Markov Language Model",
   "id": "bea39352d951f6ce"
  },
  {
   "metadata": {
    "ExecuteTime": {
     "end_time": "2025-10-14T10:16:36.604972Z",
     "start_time": "2025-10-14T10:16:36.028192Z"
    }
   },
   "cell_type": "code",
   "source": [
    "italian_q = {'search_terms': 'italian'}\n",
    "chinese_q = {'search_terms': 'chinese'}\n",
    "numdocs = 3000\n",
    "italian_corpus = create_corpus(query=italian_q, numdocs=numdocs)\n",
    "chinese_corpus = create_corpus(query=chinese_q, numdocs=numdocs)\n",
    "print(f\"Italian: {len(italian_corpus)}\")\n",
    "print(f\"Chinese: {len(chinese_corpus)}\")"
   ],
   "id": "7958035c24fe3349",
   "outputs": [
    {
     "name": "stdout",
     "output_type": "stream",
     "text": [
      "Italian: 31048\n",
      "Chinese: 24071\n"
     ]
    }
   ],
   "execution_count": 7
  },
  {
   "metadata": {
    "ExecuteTime": {
     "end_time": "2025-10-14T10:16:56.369489Z",
     "start_time": "2025-10-14T10:16:45.936868Z"
    }
   },
   "cell_type": "code",
   "source": [
    "it = MarkovLM(k=4, tokenizer_model=tokenizer)\n",
    "ch = MarkovLM(k=4, tokenizer_model=tokenizer)"
   ],
   "id": "355132e1bcbbabf8",
   "outputs": [],
   "execution_count": 8
  },
  {
   "metadata": {
    "ExecuteTime": {
     "end_time": "2025-10-14T10:17:22.713207Z",
     "start_time": "2025-10-14T10:16:56.381837Z"
    }
   },
   "cell_type": "code",
   "source": [
    "it.train(corpus=italian_corpus)\n",
    "ch.train(corpus=chinese_corpus)"
   ],
   "id": "698c1d5805099e85",
   "outputs": [
    {
     "name": "stderr",
     "output_type": "stream",
     "text": [
      "100%|██████████| 31048/31048 [00:14<00:00, 2177.98it/s]\n",
      "100%|██████████| 24071/24071 [00:12<00:00, 1995.97it/s]\n"
     ]
    }
   ],
   "execution_count": 9
  },
  {
   "metadata": {
    "ExecuteTime": {
     "end_time": "2025-10-14T10:18:04.341463Z",
     "start_time": "2025-10-14T10:18:04.328006Z"
    }
   },
   "cell_type": "code",
   "source": [
    "italian_sentence = italian_corpus[6]\n",
    "chinese_sentence = chinese_corpus[6]\n",
    "\n",
    "print(f\"Italian sentence: {italian_sentence}\")\n",
    "print(f\"Italian: {it.log_prob(italian_sentence)}\")\n",
    "print(f\"Chinese: {ch.log_prob(italian_sentence)}\")\n",
    "print(\"========\")\n",
    "print(f\"Chinese sentence: {chinese_sentence}\")\n",
    "print(f\"Italian: {it.log_prob(chinese_sentence)}\")\n",
    "print(f\"Chinese: {ch.log_prob(chinese_sentence)}\")"
   ],
   "id": "8e73d2f7fb7f4ae6",
   "outputs": [
    {
     "name": "stdout",
     "output_type": "stream",
     "text": [
      "Italian sentence: To prepare sauce, combine milk and flour in a small saucepan over medium-low heat; stir with a whisk.\n",
      "Italian: -35.87231088425833\n",
      "Chinese: -39.72849731483897\n",
      "========\n",
      "Chinese sentence: Cut bell pepper into thin strips and fry until the texture is soft.  Add scallions about 5 minutes after the bell pepper.\n",
      "Italian: -39.1592348306556\n",
      "Chinese: -39.93073368561632\n"
     ]
    }
   ],
   "execution_count": 12
  },
  {
   "metadata": {},
   "cell_type": "markdown",
   "source": [
    " ## 3. Combining Languages\n",
    "\n",
    "We can create a model that generates italian-chinese cuisine"
   ],
   "id": "badd3354853f3726"
  },
  {
   "metadata": {
    "ExecuteTime": {
     "end_time": "2025-10-14T10:23:08.647974Z",
     "start_time": "2025-10-14T10:22:53.812550Z"
    }
   },
   "cell_type": "code",
   "source": [
    "# We simply train on both corpuses\n",
    "\n",
    "mix = copy.deepcopy(it)\n",
    "mix.train(chinese_corpus)"
   ],
   "id": "6a8a591cb0823e3c",
   "outputs": [
    {
     "name": "stderr",
     "output_type": "stream",
     "text": [
      "100%|██████████| 24071/24071 [00:11<00:00, 2018.02it/s]\n"
     ]
    }
   ],
   "execution_count": 15
  },
  {
   "metadata": {
    "ExecuteTime": {
     "end_time": "2025-10-14T10:23:26.332929Z",
     "start_time": "2025-10-14T10:23:26.277166Z"
    }
   },
   "cell_type": "code",
   "source": "print(\"Mix: \", \" \".join(mix.generate()).replace(\" ##\", \"\"))",
   "id": "4e617295ed4b5644",
   "outputs": [
    {
     "name": "stdout",
     "output_type": "stream",
     "text": [
      "Mix:  [#S] [#S] [#S] place the noodles in a separate sauce pan , combine the plums . cut the dough into 4 and transfer 2 of the green onions side ways into thin strips and fry until the eggs have been dropped , stir in the shiitake mushrooms until soft and caramelized . [#E]\n"
     ]
    }
   ],
   "execution_count": 19
  }
 ],
 "metadata": {
  "kernelspec": {
   "display_name": "Python 3",
   "language": "python",
   "name": "python3"
  },
  "language_info": {
   "codemirror_mode": {
    "name": "ipython",
    "version": 2
   },
   "file_extension": ".py",
   "mimetype": "text/x-python",
   "name": "python",
   "nbconvert_exporter": "python",
   "pygments_lexer": "ipython2",
   "version": "2.7.6"
  }
 },
 "nbformat": 4,
 "nbformat_minor": 5
}
