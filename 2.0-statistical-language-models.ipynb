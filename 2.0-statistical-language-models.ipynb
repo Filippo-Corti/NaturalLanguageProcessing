{
 "cells": [
  {
   "metadata": {},
   "cell_type": "markdown",
   "source": [
    "# Statistical Language Models\n",
    "\n"
   ],
   "id": "fffa7fe9721d4e29"
  },
  {
   "metadata": {
    "ExecuteTime": {
     "end_time": "2025-10-13T09:09:19.696881Z",
     "start_time": "2025-10-13T09:09:19.600046Z"
    }
   },
   "cell_type": "code",
   "source": "import pymongo",
   "id": "10eff8685b7f909f",
   "outputs": [],
   "execution_count": 1
  },
  {
   "cell_type": "code",
   "id": "initial_id",
   "metadata": {
    "collapsed": true,
    "ExecuteTime": {
     "end_time": "2025-10-13T09:09:25.058234Z",
     "start_time": "2025-10-13T09:09:25.041190Z"
    }
   },
   "source": [
    "db = pymongo.MongoClient()['cousine']\n",
    "recipes = db['foodcom']"
   ],
   "outputs": [],
   "execution_count": 2
  },
  {
   "metadata": {
    "ExecuteTime": {
     "end_time": "2025-10-13T09:09:31.344461Z",
     "start_time": "2025-10-13T09:09:31.244559Z"
    }
   },
   "cell_type": "code",
   "source": [
    "def create_corpus(query:  dict = {}, numdocs: int = 3000):\n",
    "    corpus = []\n",
    "    for recipe in recipes.find(query).limit(numdocs):\n",
    "        for sentence in recipe['steps']:\n",
    "            corpus.append(sentence)\n",
    "    return corpus\n",
    "\n",
    "numdocs = 3000\n",
    "corpus = create_corpus(query={}, numdocs=numdocs)\n",
    "print(f\"Corpus size: {len(corpus)}\")\n",
    "for text in corpus[:4]:\n",
    "    print(text)"
   ],
   "id": "60df29704914ee41",
   "outputs": [
    {
     "name": "stdout",
     "output_type": "stream",
     "text": [
      "Corpus size: 20805\n",
      "To prepare ravioli, place mushrooms in food processor; pulse 10 times or until finely chopped.\n",
      "Heat oil and butter in a large nonstick skillet over medium-high heat. Add shallots and garlic, and sauté for 2 minutes.\n",
      "Add mushrooms and 1/8 teaspoon salt; cook 5 minutes or until moisture evaporates, stirring occasionally.\n",
      "Working with 1 wonton wrapper at a time (cover remaining wrappers with a damp towel to keep them from drying), spoon about 2 teaspoons mushroom mixture into center of each wrapper.\n"
     ]
    }
   ],
   "execution_count": 3
  },
  {
   "metadata": {},
   "cell_type": "code",
   "outputs": [],
   "execution_count": null,
   "source": "",
   "id": "2da1694f2d4e5c4c"
  }
 ],
 "metadata": {
  "kernelspec": {
   "display_name": "Python 3",
   "language": "python",
   "name": "python3"
  },
  "language_info": {
   "codemirror_mode": {
    "name": "ipython",
    "version": 2
   },
   "file_extension": ".py",
   "mimetype": "text/x-python",
   "name": "python",
   "nbconvert_exporter": "python",
   "pygments_lexer": "ipython2",
   "version": "2.7.6"
  }
 },
 "nbformat": 4,
 "nbformat_minor": 5
}
