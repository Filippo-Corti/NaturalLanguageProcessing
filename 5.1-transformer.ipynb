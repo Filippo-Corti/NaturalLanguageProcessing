{
 "cells": [
  {
   "metadata": {},
   "cell_type": "markdown",
   "source": [
    "# Transformer\n",
    "\n",
    "Implementation and testing of a real Transformer, as described in the original paper [\"Attention is All You Need\"](https://arxiv.org/pdf/1706.03762).\n",
    "\n",
    "![Transformer](img/transformer.png)\n"
   ],
   "id": "cdcbe672976fa1ee"
  },
  {
   "metadata": {
    "ExecuteTime": {
     "end_time": "2025-10-30T17:45:26.935310Z",
     "start_time": "2025-10-30T17:45:22.070848Z"
    }
   },
   "cell_type": "code",
   "source": [
    "import numpy as np\n",
    "import torch\n",
    "import torch.nn as nn\n",
    "import torch.nn.functional as F\n",
    "import math\n",
    "import seaborn as sns\n",
    "import matplotlib.pyplot as plt\n",
    "from bertviz.transformers_neuron_view import BertModel, BertTokenizer\n",
    "from bertviz.neuron_view import show\n",
    "from nltk.tokenize import word_tokenize\n",
    "import spacy"
   ],
   "id": "b99a98a60ca815cb",
   "outputs": [
    {
     "name": "stderr",
     "output_type": "stream",
     "text": [
      "C:\\Users\\Filippo Corti\\miniconda3\\envs\\SocialMediaMining\\Lib\\site-packages\\cupy\\_environment.py:217: UserWarning: CUDA path could not be detected. Set CUDA_PATH environment variable if CuPy fails to load.\n",
      "  warnings.warn(\n"
     ]
    }
   ],
   "execution_count": 1
  },
  {
   "metadata": {},
   "cell_type": "markdown",
   "source": [
    "# Transformers\n",
    "\n",
    "Task is translation from English to Italian"
   ],
   "id": "db38dc7ef79a48a7"
  },
  {
   "metadata": {},
   "cell_type": "code",
   "source": [
    "# !python -m spacy download en_core_web_lg\n",
    "# !python -m spacy download it_core_news_lg"
   ],
   "id": "51976fd22c228771",
   "outputs": [],
   "execution_count": null
  },
  {
   "metadata": {
    "ExecuteTime": {
     "end_time": "2025-10-30T17:45:34.228273Z",
     "start_time": "2025-10-30T17:45:34.226279Z"
    }
   },
   "cell_type": "code",
   "source": [
    "max_sequence_len = 60 #number of tokens in each sentence\n",
    "d_model = 6 #dimension of embeddings"
   ],
   "id": "d650c8ea523f2dc4",
   "outputs": [],
   "execution_count": 3
  },
  {
   "metadata": {
    "ExecuteTime": {
     "end_time": "2025-10-30T10:41:01.670068Z",
     "start_time": "2025-10-30T10:40:51.653903Z"
    }
   },
   "cell_type": "code",
   "source": [
    "START_TOKEN = '<START>'\n",
    "PADDING_TOKEN = '<PADDING>'\n",
    "END_TOKEN = '<END>'\n",
    "\n",
    "#loading vocabulary through spacy\n",
    "nlp_en = spacy.load('en_core_web_lg')\n",
    "nlp_it = spacy.load('it_core_news_lg')\n",
    "italian_vocab = [START_TOKEN, PADDING_TOKEN] + list(nlp_it.vocab.strings) + [END_TOKEN]\n",
    "english_vocab = [START_TOKEN, PADDING_TOKEN] + list(nlp_en.vocab.strings) + [END_TOKEN]\n",
    "\n",
    "#lookup tables\n",
    "index_to_italian = {k:v for k,v in enumerate(italian_vocab)}\n",
    "italian_to_index = {v:k for k,v in enumerate(italian_vocab)}\n",
    "index_to_english = {k:v for k,v in enumerate(english_vocab)}\n",
    "english_to_index = {v:k for k,v in enumerate(english_vocab)}"
   ],
   "id": "323c46eb0d208b59",
   "outputs": [],
   "execution_count": 7
  },
  {
   "metadata": {
    "ExecuteTime": {
     "end_time": "2025-10-30T10:41:11.546343Z",
     "start_time": "2025-10-30T10:41:11.390116Z"
    }
   },
   "cell_type": "code",
   "source": [
    "# We start by Embedding vocabularies\n",
    "\n",
    "english_embedding = nn.Embedding(len(english_vocab), d_model)\n",
    "italian_embedding = nn.Embedding(len(italian_vocab), d_model)\n",
    "\n",
    "en_w, it_w = 660403, 559485\n",
    "print(f\"Embedding for the word {index_to_english[en_w]}: {english_embedding(torch.tensor(en_w))}\")\n",
    "print(f\"Embedding for the word {index_to_italian[it_w]}: {italian_embedding(torch.tensor(it_w))}\")"
   ],
   "id": "7be1f95dd478d4e9",
   "outputs": [
    {
     "name": "stdout",
     "output_type": "stream",
     "text": [
      "Embedding for the word subterranean: tensor([-1.1369, -0.8225,  0.2595, -0.6104,  1.1484, -0.3768],\n",
      "       grad_fn=<EmbeddingBackward0>)\n",
      "Embedding for the word proclamasse: tensor([ 0.7371, -1.4045,  0.0519,  0.8513,  0.5025,  1.0786],\n",
      "       grad_fn=<EmbeddingBackward0>)\n"
     ]
    }
   ],
   "execution_count": 8
  },
  {
   "metadata": {
    "ExecuteTime": {
     "end_time": "2025-10-30T10:41:33.003151Z",
     "start_time": "2025-10-30T10:41:32.992374Z"
    }
   },
   "cell_type": "code",
   "source": [
    "#utility functions for checking sentence validity\n",
    "def is_valid_tokens(sentence_tokenized, vocab):\n",
    "    for token in sentence_tokenized:\n",
    "        if isinstance(token, str):\n",
    "            w = token\n",
    "        else:\n",
    "            w = token.text\n",
    "        if w not in vocab:\n",
    "            return False\n",
    "    return True\n",
    "\n",
    "def is_valid_length(sentence_tokenized, max_sequence_length):\n",
    "    return len(sentence_tokenized) < (max_sequence_length)\n",
    "\n",
    "def filter_and_preprocess(sent, tokenizer, vocab, max_s_len):\n",
    "    tokenized = tokenizer(sent)\n",
    "    if is_valid_length(tokenized, max_s_len) and is_valid_tokens(tokenized, vocab):\n",
    "        return str(sent)\n",
    "    return False"
   ],
   "id": "eba57ed877d83383",
   "outputs": [],
   "execution_count": 9
  },
  {
   "metadata": {
    "ExecuteTime": {
     "end_time": "2025-10-30T10:41:33.682250Z",
     "start_time": "2025-10-30T10:41:33.676371Z"
    }
   },
   "cell_type": "code",
   "source": [
    "#taking only the first 10000 sentences meeting the requirements\n",
    "MAX_SENTENCES = 10000"
   ],
   "id": "bcb0d181d7c9e4b8",
   "outputs": [],
   "execution_count": 10
  },
  {
   "metadata": {
    "ExecuteTime": {
     "end_time": "2025-10-30T10:41:50.048279Z",
     "start_time": "2025-10-30T10:41:50.043060Z"
    }
   },
   "cell_type": "code",
   "source": [
    "it_tokenizer = lambda text: word_tokenize(text, language='italian')\n",
    "en_tokenizer = lambda text: word_tokenize(text, language='english')"
   ],
   "id": "eeb94ecd49821a31",
   "outputs": [],
   "execution_count": 12
  },
  {
   "metadata": {
    "ExecuteTime": {
     "end_time": "2025-10-30T10:43:57.841043Z",
     "start_time": "2025-10-30T10:43:46.333213Z"
    }
   },
   "cell_type": "code",
   "source": [
    "english_file = \"./data/it-en/europarl-v7.it-en.en\"\n",
    "italian_file = \"./data/it-en/europarl-v7.it-en.it\"\n",
    "\n",
    "en_vocab = set(english_vocab)\n",
    "it_vocab = set(italian_vocab)\n",
    "\n",
    "#loading corpus for training\n",
    "count = 0\n",
    "english_lines, italian_lines = [], []\n",
    "english_sentences, italian_sentences = [], []\n",
    "\n",
    "print('Reading english sentences...')\n",
    "with open(english_file,'rt') as f:\n",
    "    english_lines = f.readlines()\n",
    "\n",
    "print('Reading italian sentences...')\n",
    "with open(italian_file,'rt') as f:\n",
    "    italian_lines = f.readlines()\n",
    "\n",
    "for (sentence_en, sentence_it) in zip(english_lines, italian_lines):\n",
    "    if count < MAX_SENTENCES:\n",
    "        preprocessed_sent_en = filter_and_preprocess(sentence_en.lower()[:-1],\n",
    "                                                    en_tokenizer,\n",
    "                                                    en_vocab,\n",
    "                                                    max_sequence_len)\n",
    "        if preprocessed_sent_en:\n",
    "            preprocessed_sent_it = filter_and_preprocess(sentence_it.lower()[:-1],\n",
    "                                                it_tokenizer,\n",
    "                                                it_vocab,\n",
    "                                                max_sequence_len)\n",
    "            if preprocessed_sent_it:\n",
    "                english_sentences.append(preprocessed_sent_en)\n",
    "                italian_sentences.append(preprocessed_sent_it)\n",
    "                count += 1\n",
    "                print(count, end='\\r')\n",
    "    else: break"
   ],
   "id": "59c31add0c586ca2",
   "outputs": [
    {
     "name": "stdout",
     "output_type": "stream",
     "text": [
      "Reading english sentences...\n",
      "Reading italian sentences...\n",
      "10000\r"
     ]
    }
   ],
   "execution_count": 13
  },
  {
   "metadata": {
    "ExecuteTime": {
     "end_time": "2025-10-30T10:44:09.572925Z",
     "start_time": "2025-10-30T10:44:09.565547Z"
    }
   },
   "cell_type": "code",
   "source": [
    "#we build a dataset class for our specific MT task\n",
    "from torch.utils.data import Dataset, DataLoader\n",
    "\n",
    "class TextDataset(Dataset):\n",
    "\n",
    "    def __init__(self, english_sentences, italian_sentences):\n",
    "        self.english_sentences = english_sentences\n",
    "        self.italian_sentences = italian_sentences\n",
    "\n",
    "    def __len__(self):\n",
    "        return len(self.english_sentences)\n",
    "\n",
    "    def __getitem__(self, idx):\n",
    "        return self.english_sentences[idx], self.italian_sentences[idx]"
   ],
   "id": "79f0c7d776470012",
   "outputs": [],
   "execution_count": 14
  },
  {
   "metadata": {
    "ExecuteTime": {
     "end_time": "2025-10-30T10:44:25.179033Z",
     "start_time": "2025-10-30T10:44:25.136093Z"
    }
   },
   "cell_type": "code",
   "source": [
    "#here is our dataset instance, which will work flawlessly with other pytorch modules\n",
    "dataset = TextDataset(english_sentences, italian_sentences)\n",
    "\n",
    "#saving the dataset\n",
    "torch.save(dataset, './data/it-en/dataset.pt')"
   ],
   "id": "414bc08ef2231426",
   "outputs": [],
   "execution_count": 16
  },
  {
   "metadata": {
    "ExecuteTime": {
     "end_time": "2025-10-30T10:44:35.499632Z",
     "start_time": "2025-10-30T10:44:35.468684Z"
    }
   },
   "cell_type": "code",
   "source": "dataset = torch.load('./data/it-en/dataset.pt', weights_only=False)",
   "id": "23dab72c347f242f",
   "outputs": [],
   "execution_count": 17
  },
  {
   "metadata": {
    "ExecuteTime": {
     "end_time": "2025-10-30T10:44:44.789657Z",
     "start_time": "2025-10-30T10:44:44.775809Z"
    }
   },
   "cell_type": "code",
   "source": [
    "#we can also batch our data to make training faster\n",
    "batch_size = 3\n",
    "train_loader = DataLoader(dataset, batch_size)\n",
    "iterator = iter(train_loader)\n",
    "batch = next(iterator)\n",
    "\n",
    "for i in range(batch_size):\n",
    "    print(f\"English: {batch[0][i]}\")\n",
    "    print(f\"Italian: {batch[1][i]}\\n\\n\")"
   ],
   "id": "4a60d7c28c4ed1c6",
   "outputs": [
    {
     "name": "stdout",
     "output_type": "stream",
     "text": [
      "English: resumption of the session\n",
      "Italian: ripresa della sessione\n",
      "\n",
      "\n",
      "English: i declare resumed the session of the european parliament adjourned on friday 17 december 1999, and i would like once again to wish you a happy new year in the hope that you enjoyed a pleasant festive period.\n",
      "Italian: dichiaro ripresa la sessione del parlamento europeo, interrotta venerdì 17 dicembre e rinnovo a tutti i miei migliori auguri nella speranza che abbiate trascorso delle buone vacanze.\n",
      "\n",
      "\n",
      "English: please rise, then, for this minute' s silence.\n",
      "Italian: vi invito pertanto ad alzarvi in piedi per osservare appunto un minuto di silenzio.\n",
      "\n",
      "\n"
     ]
    }
   ],
   "execution_count": 18
  },
  {
   "metadata": {
    "ExecuteTime": {
     "end_time": "2025-10-30T10:44:51.520979Z",
     "start_time": "2025-10-30T10:44:51.510249Z"
    }
   },
   "cell_type": "code",
   "source": [
    "def tokenize(sentence, language_to_index, lang_tokenizer, start_token=True, end_token=True):\n",
    "    sentence_word_ids = [language_to_index[token.text] for token in lang_tokenizer(sentence)]\n",
    "    if start_token:\n",
    "        sentence_word_ids.insert(0, language_to_index[START_TOKEN])\n",
    "    if end_token:\n",
    "        sentence_word_ids.append(language_to_index[END_TOKEN])\n",
    "    for _ in range(len(sentence_word_ids), max_sequence_len):\n",
    "        sentence_word_ids.append(language_to_index[PADDING_TOKEN])\n",
    "    return torch.tensor(sentence_word_ids)"
   ],
   "id": "737c1892849bbbc1",
   "outputs": [],
   "execution_count": 19
  },
  {
   "metadata": {
    "ExecuteTime": {
     "end_time": "2025-10-30T10:45:26.454217Z",
     "start_time": "2025-10-30T10:45:26.439397Z"
    }
   },
   "cell_type": "code",
   "source": [
    "eng_tokenized, it_tokenized = [], []\n",
    "for sentence_num in range(batch_size):\n",
    "    eng_sentence, it_sentence = batch[0][sentence_num], batch[1][sentence_num]\n",
    "    eng_tokenized.append(tokenize(eng_sentence, english_to_index, nlp_en.tokenizer, start_token=False, end_token=True))\n",
    "    #start and end tokens are required for beginning and ending in the generation phase\n",
    "    it_tokenized.append(tokenize(it_sentence, italian_to_index, nlp_it.tokenizer, start_token=True, end_token=True))\n",
    "eng_tokenized = torch.stack(eng_tokenized)\n",
    "it_tokenized = torch.stack(it_tokenized)"
   ],
   "id": "1f1a8dad85163d86",
   "outputs": [],
   "execution_count": 21
  },
  {
   "metadata": {
    "ExecuteTime": {
     "end_time": "2025-10-30T10:46:13.500895Z",
     "start_time": "2025-10-30T10:46:13.486009Z"
    }
   },
   "cell_type": "code",
   "source": [
    "def get_device():\n",
    "    return torch.device('cuda') if torch.cuda.is_available() else torch.device('cpu')\n",
    "\n",
    "class SentenceEmbedding(nn.Module):\n",
    "    \"For a given sentence, create an embedding\"\n",
    "    def __init__(self, max_sequence_length, d_model, language_to_index, lang_tokenizer, START_TOKEN, END_TOKEN, PADDING_TOKEN):\n",
    "        super().__init__()\n",
    "        self.vocab_size = len(language_to_index)\n",
    "        self.max_sequence_length = max_sequence_length\n",
    "        self.embedding = nn.Embedding(self.vocab_size, d_model)\n",
    "        self.language_to_index = language_to_index\n",
    "        self.language_tokenizer = lang_tokenizer\n",
    "        self.dropout = nn.Dropout(p=0.1)\n",
    "        self.START_TOKEN = START_TOKEN\n",
    "        self.END_TOKEN = END_TOKEN\n",
    "        self.PADDING_TOKEN = PADDING_TOKEN\n",
    "\n",
    "    def batch_tokenize(self, batch, start_token=True, end_token=True):\n",
    "\n",
    "        def tokenize(sentence, start_token=True, end_token=True):\n",
    "            sentence_word_ids = [self.language_to_index[token.text] for token in self.language_tokenizer(sentence)]\n",
    "            if start_token:\n",
    "                sentence_word_ids.insert(0, self.language_to_index[self.START_TOKEN])\n",
    "            if end_token:\n",
    "                sentence_word_ids.append(self.language_to_index[self.END_TOKEN])\n",
    "            for _ in range(len(sentence_word_ids), self.max_sequence_length):\n",
    "                sentence_word_ids.append(self.language_to_index[self.PADDING_TOKEN])\n",
    "            return torch.tensor(sentence_word_ids)\n",
    "\n",
    "        tokenized = []\n",
    "        for sentence_num in range(len(batch)):\n",
    "            tokenized.append(tokenize(batch[sentence_num], start_token, end_token))\n",
    "        tokenized = torch.stack(tokenized)\n",
    "        return tokenized.to(get_device())\n",
    "\n",
    "    def forward(self, x, start_token = True, end_token=True): # sentence\n",
    "        x = self.batch_tokenize(x, start_token, end_token)\n",
    "        x = self.embedding(x)\n",
    "        return x"
   ],
   "id": "f006f93be40a69bd",
   "outputs": [],
   "execution_count": 22
  },
  {
   "metadata": {
    "ExecuteTime": {
     "end_time": "2025-10-30T10:46:29.321967Z",
     "start_time": "2025-10-30T10:46:29.277373Z"
    }
   },
   "cell_type": "code",
   "source": [
    "sentence_embedding = SentenceEmbedding(max_sequence_len, d_model, english_to_index,\n",
    "                                    nlp_en.tokenizer, START_TOKEN, END_TOKEN, PADDING_TOKEN)\n",
    "english_batch = next(iterator)[0]\n",
    "print(f\"Input batch: {english_batch}\\nOutput embeddings shapes:{[embedding.size() for embedding in sentence_embedding(english_batch, start_token = False, end_token = True)]}\\nOuput embeddings: {sentence_embedding(english_batch)}\")"
   ],
   "id": "9c88e9734036bf93",
   "outputs": [
    {
     "name": "stdout",
     "output_type": "stream",
     "text": [
      "Input batch: ('if the house agrees, i shall do as mr evans has suggested.', 'madam president, on a point of order.', 'that is precisely the time when you may, if you wish, raise this question, i.e. on thursday prior to the start of the presentation of the report.')\n",
      "Output embeddings shapes:[torch.Size([60, 6]), torch.Size([60, 6]), torch.Size([60, 6])]\n",
      "Ouput embeddings: tensor([[[ 0.3675, -0.8975,  0.3463, -2.0727,  3.2634, -1.4360],\n",
      "         [-1.0836, -1.0870,  0.0671,  1.0532,  1.0600, -0.2162],\n",
      "         [ 0.2984, -0.5531, -0.1360, -2.2460,  0.1558, -0.2555],\n",
      "         ...,\n",
      "         [ 0.9139, -0.2925,  0.2005, -0.8675, -1.3621, -1.0680],\n",
      "         [ 0.9139, -0.2925,  0.2005, -0.8675, -1.3621, -1.0680],\n",
      "         [ 0.9139, -0.2925,  0.2005, -0.8675, -1.3621, -1.0680]],\n",
      "\n",
      "        [[ 0.3675, -0.8975,  0.3463, -2.0727,  3.2634, -1.4360],\n",
      "         [-0.6444, -0.4359,  0.6983, -0.8250, -0.2256, -0.8024],\n",
      "         [ 2.5103, -0.9142, -0.8219, -1.0749, -1.4161,  0.5036],\n",
      "         ...,\n",
      "         [ 0.9139, -0.2925,  0.2005, -0.8675, -1.3621, -1.0680],\n",
      "         [ 0.9139, -0.2925,  0.2005, -0.8675, -1.3621, -1.0680],\n",
      "         [ 0.9139, -0.2925,  0.2005, -0.8675, -1.3621, -1.0680]],\n",
      "\n",
      "        [[ 0.3675, -0.8975,  0.3463, -2.0727,  3.2634, -1.4360],\n",
      "         [-0.0511,  1.6711, -0.3833,  1.0350,  0.6488, -0.6211],\n",
      "         [-0.4867, -0.6361, -0.9589,  0.1693,  1.4214,  0.1874],\n",
      "         ...,\n",
      "         [ 0.9139, -0.2925,  0.2005, -0.8675, -1.3621, -1.0680],\n",
      "         [ 0.9139, -0.2925,  0.2005, -0.8675, -1.3621, -1.0680],\n",
      "         [ 0.9139, -0.2925,  0.2005, -0.8675, -1.3621, -1.0680]]],\n",
      "       grad_fn=<EmbeddingBackward0>)\n"
     ]
    }
   ],
   "execution_count": 24
  },
  {
   "metadata": {},
   "cell_type": "markdown",
   "source": "### Positional Encoding",
   "id": "dc5fcac43c7dd9a7"
  },
  {
   "metadata": {
    "ExecuteTime": {
     "end_time": "2025-10-30T10:48:50.694631Z",
     "start_time": "2025-10-30T10:48:50.685437Z"
    }
   },
   "cell_type": "code",
   "source": [
    "class PositionalEncoding(nn.Module):\n",
    "    def __init__(self, d_model, max_sequence_length):\n",
    "        super().__init__()\n",
    "        self.max_sequence_length = max_sequence_length\n",
    "        self.d_model = d_model\n",
    "\n",
    "    def forward(self):\n",
    "        i = torch.arange(0,self.d_model,2, dtype=torch.float).repeat_interleave(2)[:self.d_model]\n",
    "        denominator = torch.pow(10000, 2*i/self.d_model)\n",
    "        position = torch.arange(self.max_sequence_length).reshape(self.max_sequence_length, 1)\n",
    "        sin_cos_argument = position/denominator\n",
    "        PE = torch.zeros(size = sin_cos_argument.shape)\n",
    "        PE[:, 0::2] = torch.sin(sin_cos_argument[:, 0::2])\n",
    "        PE[:, 1::2] = torch.cos(sin_cos_argument[:, 1::2])\n",
    "        return PE"
   ],
   "id": "574e2f5d1e43c6c0",
   "outputs": [],
   "execution_count": 25
  },
  {
   "metadata": {
    "ExecuteTime": {
     "end_time": "2025-10-30T10:49:23.701669Z",
     "start_time": "2025-10-30T10:49:23.683400Z"
    }
   },
   "cell_type": "code",
   "source": [
    "# Updated version that applies Positional Encoding\n",
    "\n",
    "class SentenceEmbedding(nn.Module):\n",
    "    \"For a given sentence, create an embedding\"\n",
    "    def __init__(self, max_sequence_length, d_model, language_to_index, lang_tokenizer, START_TOKEN, END_TOKEN, PADDING_TOKEN):\n",
    "        super().__init__()\n",
    "        self.vocab_size = len(language_to_index)\n",
    "        self.max_sequence_length = max_sequence_length\n",
    "        self.embedding = nn.Embedding(self.vocab_size, d_model)\n",
    "        self.language_to_index = language_to_index\n",
    "        self.language_tokenizer = lang_tokenizer\n",
    "        self.position_encoder = PositionalEncoding(d_model, max_sequence_length)\n",
    "        self.dropout = nn.Dropout(p=0.1)\n",
    "        self.START_TOKEN = START_TOKEN\n",
    "        self.END_TOKEN = END_TOKEN\n",
    "        self.PADDING_TOKEN = PADDING_TOKEN\n",
    "\n",
    "    def batch_tokenize(self, batch, start_token=True, end_token=True):\n",
    "\n",
    "        def tokenize(sentence, start_token=True, end_token=True):\n",
    "            sentence_word_ids = [self.language_to_index[token.text] for token in self.language_tokenizer(sentence)]\n",
    "            if start_token:\n",
    "                sentence_word_ids.insert(0, self.language_to_index[self.START_TOKEN])\n",
    "            if end_token:\n",
    "                sentence_word_ids.append(self.language_to_index[self.END_TOKEN])\n",
    "            for _ in range(len(sentence_word_ids), self.max_sequence_length):\n",
    "                sentence_word_ids.append(self.language_to_index[self.PADDING_TOKEN])\n",
    "            return torch.tensor(sentence_word_ids)\n",
    "\n",
    "        tokenized = []\n",
    "        for sentence_num in range(len(batch)):\n",
    "            tokenized.append(tokenize(batch[sentence_num], start_token, end_token))\n",
    "        tokenized = torch.stack(tokenized)\n",
    "        return tokenized.to(get_device())\n",
    "\n",
    "    def forward(self, x, start_token = True, end_token=True): # sentence\n",
    "        x = self.batch_tokenize(x, start_token, end_token)\n",
    "        x = self.embedding(x)\n",
    "        pos = self.position_encoder().to(get_device())\n",
    "        x = self.dropout(x + pos)\n",
    "        return x"
   ],
   "id": "9a09fb462c09b62c",
   "outputs": [],
   "execution_count": 26
  },
  {
   "metadata": {
    "ExecuteTime": {
     "end_time": "2025-10-30T10:49:35.131816Z",
     "start_time": "2025-10-30T10:49:35.073204Z"
    }
   },
   "cell_type": "code",
   "source": [
    "sentence_embedding = SentenceEmbedding(max_sequence_len, d_model, english_to_index, nlp_en.tokenizer, START_TOKEN, END_TOKEN, PADDING_TOKEN)\n",
    "english_batch = next(iterator)[0]\n",
    "print(f\"Input batch: {english_batch}\\nOutput embeddings shapes:{[embedding.size() for embedding in sentence_embedding(english_batch, start_token = False, end_token = True)]}\\nOuput embeddings: {sentence_embedding(english_batch)}\")\n"
   ],
   "id": "59af5afeedfae9cb",
   "outputs": [
    {
     "name": "stdout",
     "output_type": "stream",
     "text": [
      "Input batch: ('this is all in accordance with the principles that we have always upheld.', 'thank you, mr segni, i shall do so gladly.', 'indeed, it is quite in keeping with the positions this house has always adopted.')\n",
      "Output embeddings shapes:[torch.Size([60, 6]), torch.Size([60, 6]), torch.Size([60, 6])]\n",
      "Ouput embeddings: tensor([[[-1.0373,  1.4222,  2.5010, -0.0125, -0.3151,  1.9529],\n",
      "         [ 1.2329,  2.9701,  0.7490,  0.9989, -0.1949,  0.3348],\n",
      "         [ 1.4299, -0.1342, -1.6556, -0.1295, -0.7283, -0.0000],\n",
      "         ...,\n",
      "         [-0.0596,  1.7782, -2.0996,  0.5660,  0.1022, -0.2296],\n",
      "         [ 0.5590,  0.9108, -2.0972,  0.0000,  0.1022, -0.2296],\n",
      "         [ 0.1633, -0.0784, -2.0948,  0.5654,  0.1022, -0.2296]],\n",
      "\n",
      "        [[-1.0373,  0.0000,  2.5010, -0.0125, -0.0000,  1.9529],\n",
      "         [ 1.6844,  1.7038,  0.0170,  0.5490,  0.7930,  3.5124],\n",
      "         [ 2.0315,  0.0746, -0.1691,  1.7907, -0.2260,  0.3195],\n",
      "         ...,\n",
      "         [-0.0596,  1.7782, -2.0996,  0.0000,  0.1022, -0.2296],\n",
      "         [ 0.5590,  0.9108, -2.0972,  0.5657,  0.1022, -0.2296],\n",
      "         [ 0.1633, -0.0000, -2.0948,  0.5654,  0.1022, -0.2296]],\n",
      "\n",
      "        [[-1.0373,  1.4222,  2.5010, -0.0125, -0.0000,  0.0000],\n",
      "         [-0.0000,  1.0594, -0.0000,  0.0000, -0.4541,  0.7695],\n",
      "         [ 0.5145,  0.2663,  0.8923,  1.1768,  1.7889, -0.9543],\n",
      "         ...,\n",
      "         [-0.0596,  1.7782, -2.0996,  0.5660,  0.1022, -0.2296],\n",
      "         [ 0.5590,  0.9108, -2.0972,  0.5657,  0.0000, -0.2296],\n",
      "         [ 0.1633, -0.0784, -0.0000,  0.0000,  0.1022, -0.2296]]],\n",
      "       grad_fn=<MulBackward0>)\n"
     ]
    }
   ],
   "execution_count": 27
  },
  {
   "metadata": {
    "ExecuteTime": {
     "end_time": "2025-10-30T10:50:00.521986Z",
     "start_time": "2025-10-30T10:50:00.402850Z"
    }
   },
   "cell_type": "code",
   "source": [
    "en_sentence_embedding = SentenceEmbedding(max_sequence_len, d_model, english_to_index, nlp_en.tokenizer, START_TOKEN, END_TOKEN, PADDING_TOKEN)\n",
    "it_sentence_embedding = SentenceEmbedding(max_sequence_len, d_model, italian_to_index, nlp_it.tokenizer, START_TOKEN, END_TOKEN, PADDING_TOKEN)"
   ],
   "id": "24f22a59fe84824c",
   "outputs": [],
   "execution_count": 28
  },
  {
   "metadata": {
    "ExecuteTime": {
     "end_time": "2025-10-30T10:50:01.322407Z",
     "start_time": "2025-10-30T10:50:01.316978Z"
    }
   },
   "cell_type": "code",
   "source": "english_batch, italian_batch = next(iterator)",
   "id": "71a802c9edd06633",
   "outputs": [],
   "execution_count": 29
  },
  {
   "metadata": {
    "ExecuteTime": {
     "end_time": "2025-10-30T10:50:50.348590Z",
     "start_time": "2025-10-30T10:50:50.309514Z"
    }
   },
   "cell_type": "code",
   "source": [
    "np.set_printoptions(suppress=True)\n",
    "x = torch.tensor(np.random.randint(1, 6, size=(4, 3)), dtype=float)\n",
    "print(x, \"\\n\")\n",
    "print(x.T @ x, \"\\n\")\n",
    "print(torch.nn.functional.softmax(x.T @ x, dim=0).detach().numpy(), \"\\n\")\n",
    "print((torch.nn.functional.softmax(x.T @ x, dim=0) @ x.T).detach().numpy())"
   ],
   "id": "8a8b074d09e6c55d",
   "outputs": [
    {
     "name": "stdout",
     "output_type": "stream",
     "text": [
      "tensor([[3., 5., 5.],\n",
      "        [2., 3., 2.],\n",
      "        [2., 4., 4.],\n",
      "        [4., 5., 4.]], dtype=torch.float64) \n",
      "\n",
      "tensor([[33., 49., 43.],\n",
      "        [49., 75., 67.],\n",
      "        [43., 67., 61.]], dtype=torch.float64) \n",
      "\n",
      "[[0.00000011 0.         0.        ]\n",
      " [0.99752726 0.99966465 0.99752738]\n",
      " [0.00247262 0.00033535 0.00247262]] \n",
      "\n",
      "[[ 0.00000034  0.00000022  0.00000022  0.00000045]\n",
      " [12.97854193  6.98910323  9.98382264 12.97854182]\n",
      " [ 0.02145774  0.01089654  0.01617714  0.02145773]]\n"
     ]
    }
   ],
   "execution_count": 30
  },
  {
   "metadata": {},
   "cell_type": "markdown",
   "source": "### Attention",
   "id": "4920d930c804188e"
  },
  {
   "metadata": {
    "ExecuteTime": {
     "end_time": "2025-10-30T10:53:11.160802Z",
     "start_time": "2025-10-30T10:53:11.138356Z"
    }
   },
   "cell_type": "code",
   "source": [
    "d_k, d_v =  d_model, d_model\n",
    "w_q = torch.randn(d_k, d_k)\n",
    "w_k = torch.randn(d_k, d_k)\n",
    "w_v = torch.randn(d_v, d_v)\n",
    "input = en_sentence_embedding(english_batch, start_token = False, end_token = True)[0] #embeddings\n",
    "tokenized_sentence = en_sentence_embedding.batch_tokenize(english_batch, start_token = False, end_token = True)[0] #textual representation of sentence, tokenized\n",
    "tokenized_sentence_pad = [index_to_english[t.item()] for t in tokenized_sentence]\n",
    "tokenized_sentence_nopad = [index_to_english[t.item()] for t in tokenized_sentence if t != english_to_index[PADDING_TOKEN]]\n",
    "print(f\"Query weight matrix shape:\\t{w_q.size()}\")\n",
    "print(f\"Key weight matrix shape:\\t{w_k.size()}\")\n",
    "print(f\"Value weight matrix shape:\\t{w_v.size()}\")\n",
    "print(f\"Input matrix shape:\\t\\t{input.size()}\")\n",
    "\n",
    "#computing Q, K and V\n",
    "q = torch.matmul(input, w_q)\n",
    "k = torch.matmul(input, w_k)\n",
    "v = torch.matmul(input, w_v)\n",
    "print(f\"Query matrix shape:\\t\\t{q.size()}\")\n",
    "print(f\"Key matrix shape:\\t\\t{k.size()}\")\n",
    "print(f\"Value matrix shape:\\t\\t{v.size()}\")"
   ],
   "id": "28d8663bc330c866",
   "outputs": [
    {
     "name": "stdout",
     "output_type": "stream",
     "text": [
      "Query weight matrix shape:\ttorch.Size([6, 6])\n",
      "Key weight matrix shape:\ttorch.Size([6, 6])\n",
      "Value weight matrix shape:\ttorch.Size([6, 6])\n",
      "Input matrix shape:\t\ttorch.Size([60, 6])\n",
      "Query matrix shape:\t\ttorch.Size([60, 6])\n",
      "Key matrix shape:\t\ttorch.Size([60, 6])\n",
      "Value matrix shape:\t\ttorch.Size([60, 6])\n"
     ]
    }
   ],
   "execution_count": 31
  },
  {
   "metadata": {
    "ExecuteTime": {
     "end_time": "2025-10-30T10:53:22.456469Z",
     "start_time": "2025-10-30T10:53:22.450571Z"
    }
   },
   "cell_type": "code",
   "source": "input_img, q_img, k_img, v_img = input[:len(tokenized_sentence_nopad),:] ,q[:len(tokenized_sentence_nopad),:], k[:len(tokenized_sentence_nopad),:], v[:len(tokenized_sentence_nopad),:]\n",
   "id": "ab07241a2895ff80",
   "outputs": [],
   "execution_count": 32
  },
  {
   "metadata": {
    "ExecuteTime": {
     "end_time": "2025-10-30T10:53:26.151285Z",
     "start_time": "2025-10-30T10:53:26.145069Z"
    }
   },
   "cell_type": "code",
   "source": [
    "def softmax(x):\n",
    "  return (torch.exp(x).T / torch.sum(torch.exp(x), axis=-1)).T\n",
    "\n",
    "def scaled_dot_product_attention(q, k, v):\n",
    "  d_k = q.shape[-1]\n",
    "  scaled = torch.matmul(q, k.T) / math.sqrt(d_k)\n",
    "  attention = softmax(scaled)\n",
    "  output = torch.matmul(attention, v)\n",
    "  return output, attention"
   ],
   "id": "b350a4f3a1d10d53",
   "outputs": [],
   "execution_count": 33
  },
  {
   "metadata": {
    "ExecuteTime": {
     "end_time": "2025-10-30T10:53:30.111299Z",
     "start_time": "2025-10-30T10:53:30.083893Z"
    }
   },
   "cell_type": "code",
   "source": [
    "o, att = scaled_dot_product_attention(q, k, v)\n",
    "print(f\"Output shape:\\t\\t{o.size()}\")\n",
    "print(f\"Attention shape:\\t{att.size()}\")"
   ],
   "id": "c47d12b4a030b53d",
   "outputs": [
    {
     "name": "stdout",
     "output_type": "stream",
     "text": [
      "Output shape:\t\ttorch.Size([60, 6])\n",
      "Attention shape:\ttorch.Size([60, 60])\n"
     ]
    }
   ],
   "execution_count": 34
  },
  {
   "metadata": {
    "ExecuteTime": {
     "end_time": "2025-10-30T10:53:35.044750Z",
     "start_time": "2025-10-30T10:53:33.681922Z"
    }
   },
   "cell_type": "code",
   "source": [
    "o, att = scaled_dot_product_attention(input_img, input_img, v_img)\n",
    "fig, ax = plt.subplots(figsize=(6, 4))\n",
    "sns.heatmap(att.detach().numpy(), xticklabels=tokenized_sentence_nopad, yticklabels=tokenized_sentence_nopad, ax=ax)\n",
    "plt.tight_layout()\n",
    "plt.show()"
   ],
   "id": "6e37b33d1129097f",
   "outputs": [
    {
     "data": {
      "text/plain": [
       "<Figure size 600x400 with 2 Axes>"
      ],
      "image/png": "[encoded data removed]"
     },
     "metadata": {},
     "output_type": "display_data",
     "jetTransient": {
      "display_id": null
     }
    }
   ],
   "execution_count": 35
  },
  {
   "metadata": {},
   "cell_type": "code",
   "source": [
    "#quick visualization\n",
    "sentence_a = \"John loves Mary\"\n",
    "sentence_b = \"She is happy for that\"\n",
    "model_type = 'bert'\n",
    "model_version = 'bert-base-uncased'\n",
    "model = BertModel.from_pretrained(model_version, output_attentions=True)\n",
    "tokenizer = BertTokenizer.from_pretrained(model_version, do_lower_case=True)\n",
    "show(model, model_type, tokenizer, sentence_a, sentence_b, layer=4, head=3)"
   ],
   "id": "4ba6347ab5b475e0",
   "outputs": [],
   "execution_count": null
  },
  {
   "metadata": {},
   "cell_type": "code",
   "outputs": [],
   "execution_count": null,
   "source": "",
   "id": "2222c39de4c57c59"
  }
 ],
 "metadata": {
  "kernelspec": {
   "display_name": "Python 3",
   "language": "python",
   "name": "python3"
  },
  "language_info": {
   "codemirror_mode": {
    "name": "ipython",
    "version": 2
   },
   "file_extension": ".py",
   "mimetype": "text/x-python",
   "name": "python",
   "nbconvert_exporter": "python",
   "pygments_lexer": "ipython2",
   "version": "2.7.6"
  }
 },
 "nbformat": 4,
 "nbformat_minor": 5
}
