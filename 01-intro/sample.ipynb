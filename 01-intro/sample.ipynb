{
 "cells": [
  {
   "metadata": {},
   "cell_type": "markdown",
   "source": "# Introduction to encoding textual data",
   "id": "8a77807f92f26ee"
  },
  {
   "metadata": {
    "ExecuteTime": {
     "end_time": "2025-09-29T10:11:24.666206Z",
     "start_time": "2025-09-29T10:11:24.659400Z"
    }
   },
   "cell_type": "code",
   "source": [
    "import pandas as pd\n",
    "import numpy as np\n",
    "import pymongo\n",
    "from nltk.tokenize import sent_tokenize\n",
    "from datasets import load_dataset\n",
    "\n",
    "# Remember to start Mongo with sudo systemctl start mongod"
   ],
   "id": "2fc45a0c5bbc0de1",
   "outputs": [],
   "execution_count": 2
  },
  {
   "metadata": {},
   "cell_type": "code",
   "source": [
    "# Load dataset into DB\n",
    "\n",
    "db = pymongo.MongoClient()['climate']\n",
    "ds = load_dataset(\"tdiggelm/climate_fever\")\n",
    "\n",
    "evidences = []\n",
    "for record in ds['test']:\n",
    "    for evidence in record['evidences']:\n",
    "        evidence['claim_id'] = record['claim_id']\n",
    "        evidence['claim'] = record['claim']\n",
    "        evidence['claim_label'] = record['claim_id']\n",
    "        evidences.append(evidence)\n",
    "\n",
    "db['evidences'].insert_many(evidences)\n"
   ],
   "id": "c328a734ab13c3d6",
   "outputs": [],
   "execution_count": null
  },
  {
   "metadata": {},
   "cell_type": "code",
   "outputs": [],
   "execution_count": null,
   "source": "",
   "id": "f609f7f80f6230b6"
  }
 ],
 "metadata": {
  "kernelspec": {
   "display_name": "Python 3",
   "language": "python",
   "name": "python3"
  },
  "language_info": {
   "codemirror_mode": {
    "name": "ipython",
    "version": 2
   },
   "file_extension": ".py",
   "mimetype": "text/x-python",
   "name": "python",
   "nbconvert_exporter": "python",
   "pygments_lexer": "ipython2",
   "version": "2.7.6"
  }
 },
 "nbformat": 4,
 "nbformat_minor": 5
}
