{
 "cells": [
  {
   "metadata": {},
   "cell_type": "markdown",
   "source": [
    "# Generation using RNNs\n",
    "\n",
    "We are trying to generate syntactically correct Roman Numbers.\n",
    "\n",
    "For the task, we use a LSTM Network"
   ],
   "id": "28d6da21c5e98c2e"
  },
  {
   "metadata": {
    "ExecuteTime": {
     "end_time": "2025-10-24T16:50:21.672251Z",
     "start_time": "2025-10-24T16:50:21.666869Z"
    }
   },
   "cell_type": "code",
   "source": [
    "import torch\n",
    "import torch.nn as nn\n",
    "import torch.optim as optim\n",
    "from torch.utils.data import Dataset, DataLoader\n",
    "from torch.nn.utils.rnn import pad_sequence\n",
    "import numpy as np\n",
    "import torch.nn.functional as F"
   ],
   "id": "35e3ba76d0429e5d",
   "outputs": [],
   "execution_count": 3
  },
  {
   "cell_type": "code",
   "id": "initial_id",
   "metadata": {
    "collapsed": true,
    "ExecuteTime": {
     "end_time": "2025-10-24T16:50:22.614409Z",
     "start_time": "2025-10-24T16:50:22.592068Z"
    }
   },
   "source": [
    "# Utility classes and functions\n",
    "\n",
    "roman_map = {\n",
    "    1: \"I\", 4: \"IV\", 5: \"V\", 9: \"IX\", 10: \"X\",\n",
    "    40: \"XL\", 50: \"L\", 90: \"XC\", 100: \"C\",\n",
    "    400: \"CD\", 500: \"D\", 900: \"CM\", 1000: \"M\"\n",
    "}\n",
    "\n",
    "\n",
    "def decimal_to_roman(num):\n",
    "    roman = \"\"\n",
    "    for value, symbol in sorted(roman_map.items(), key=lambda x: -x[0]):\n",
    "        while num >= value:\n",
    "            roman += symbol\n",
    "            num -= value\n",
    "    return roman\n",
    "\n",
    "\n",
    "def roman_to_decimal(roman):\n",
    "    roman_map = {\n",
    "        'I': 1, 'V': 5, 'X': 10, 'L': 50,\n",
    "        'C': 100, 'D': 500, 'M': 1000\n",
    "    }\n",
    "    total = 0\n",
    "    prev_value = 0\n",
    "\n",
    "    for char in reversed(roman):\n",
    "        current_value = roman_map[char]\n",
    "        if current_value >= prev_value:\n",
    "            total += current_value\n",
    "        else:\n",
    "            total -= current_value\n",
    "        prev_value = current_value\n",
    "\n",
    "    return total\n",
    "\n",
    "\n",
    "class RomanDataset(Dataset):\n",
    "    def __init__(self, max_number=3999):\n",
    "        self.data = [decimal_to_roman(i) for i in range(1, max_number + 1)]\n",
    "        self.char_to_idx = {char: idx + 1 for idx, char in enumerate(\"IVXLCDM\")}  # +1 for padding\n",
    "        self.char_to_idx[\"<START>\"] = len(self.char_to_idx) + 1\n",
    "        self.char_to_idx[\"<END>\"] = len(self.char_to_idx) + 1\n",
    "        self.idx_to_char = {idx: char for char, idx in self.char_to_idx.items()}\n",
    "        self.pad_idx = 0\n",
    "\n",
    "    def __len__(self):\n",
    "        return len(self.data)\n",
    "\n",
    "    def __getitem__(self, idx):\n",
    "        roman = self.data[idx]\n",
    "        tokens = [self.char_to_idx[\"<START>\"]] + [self.char_to_idx[char] for char in roman] + [\n",
    "            self.char_to_idx[\"<END>\"]]\n",
    "        return torch.tensor(tokens, dtype=torch.long)\n",
    "\n",
    "\n",
    "def collate_fn(batch):\n",
    "    return pad_sequence(batch, batch_first=True, padding_value=0)\n",
    "\n",
    "\n",
    "# LSTM model\n",
    "class RomanGenerator(nn.Module):\n",
    "    def __init__(self, vocab_size, embed_size, hidden_size, num_layers=1):\n",
    "        super(RomanGenerator, self).__init__()\n",
    "        self.embedding = nn.Embedding(vocab_size, embed_size, padding_idx=0)\n",
    "        self.lstm = nn.LSTM(embed_size, hidden_size, num_layers, batch_first=True)\n",
    "        self.fc = nn.Linear(hidden_size, vocab_size)\n",
    "\n",
    "    def forward(self, x, hidden=None):\n",
    "        x = self.embedding(x)\n",
    "        output, hidden = self.lstm(x, hidden)\n",
    "        output = self.fc(output)\n",
    "        return output, hidden"
   ],
   "outputs": [],
   "execution_count": 4
  },
  {
   "metadata": {
    "ExecuteTime": {
     "end_time": "2025-10-24T16:50:29.614428Z",
     "start_time": "2025-10-24T16:50:29.606044Z"
    }
   },
   "cell_type": "code",
   "source": [
    "max_number = 3999\n",
    "embed_size = 16\n",
    "hidden_size = 128\n",
    "num_layers = 1\n",
    "batch_size = 32\n",
    "learning_rate = 0.001\n",
    "epochs = 10"
   ],
   "id": "82593cc6891b48c6",
   "outputs": [],
   "execution_count": 5
  },
  {
   "metadata": {
    "ExecuteTime": {
     "end_time": "2025-10-24T16:50:41.379088Z",
     "start_time": "2025-10-24T16:50:39.558572Z"
    }
   },
   "cell_type": "code",
   "source": [
    "# Dataset and DataLoader\n",
    "dataset = RomanDataset(max_number=max_number)\n",
    "vocab_size = len(dataset.char_to_idx) + 1  # +1 per il padding\n",
    "dataloader = DataLoader(dataset, batch_size=batch_size, shuffle=True, collate_fn=collate_fn)\n",
    "\n",
    "# Model, loss and optimization\n",
    "model = RomanGenerator(vocab_size, embed_size, hidden_size, num_layers)\n",
    "criterion = nn.CrossEntropyLoss(ignore_index=dataset.pad_idx)\n",
    "optimizer = optim.Adam(model.parameters(), lr=learning_rate)"
   ],
   "id": "a706cd075c0dca98",
   "outputs": [],
   "execution_count": 6
  },
  {
   "metadata": {
    "ExecuteTime": {
     "end_time": "2025-10-24T16:51:29.701236Z",
     "start_time": "2025-10-24T16:50:57.475521Z"
    }
   },
   "cell_type": "code",
   "source": [
    "# Training loop\n",
    "for epoch in range(epochs):\n",
    "    model.train()\n",
    "    total_loss = 0\n",
    "    for batch in dataloader:\n",
    "        optimizer.zero_grad()\n",
    "        inputs = batch[:, :-1]  # Everything but the last token is the input\n",
    "        targets = batch[:, 1:]  # Everything but the first token is the output\n",
    "        outputs, _ = model(inputs)\n",
    "        loss = criterion(outputs.reshape(-1, vocab_size), targets.reshape(-1))\n",
    "        loss.backward()\n",
    "        optimizer.step()\n",
    "        total_loss += loss.item()\n",
    "    print(f\"Epoch {epoch + 1}/{epochs}, Loss: {total_loss / len(dataloader):.4f}\")"
   ],
   "id": "c72ad388e1935c1b",
   "outputs": [
    {
     "name": "stdout",
     "output_type": "stream",
     "text": [
      "Epoch 1/10, Loss: 1.4240\n",
      "Epoch 2/10, Loss: 1.0933\n",
      "Epoch 3/10, Loss: 1.0432\n",
      "Epoch 4/10, Loss: 1.0215\n",
      "Epoch 5/10, Loss: 1.0105\n",
      "Epoch 6/10, Loss: 1.0018\n",
      "Epoch 7/10, Loss: 0.9978\n",
      "Epoch 8/10, Loss: 0.9947\n",
      "Epoch 9/10, Loss: 0.9933\n",
      "Epoch 10/10, Loss: 0.9905\n"
     ]
    }
   ],
   "execution_count": 7
  },
  {
   "metadata": {
    "ExecuteTime": {
     "end_time": "2025-10-24T16:52:23.549808Z",
     "start_time": "2025-10-24T16:52:23.126646Z"
    }
   },
   "cell_type": "code",
   "source": [
    "def generate_sequence(model, start_token, max_length, dataset):\n",
    "    model.eval()\n",
    "    generated_sequence = [start_token]\n",
    "    input_seq = torch.tensor([[start_token]], dtype=torch.long)\n",
    "    hidden = None\n",
    "\n",
    "    for _ in range(max_length):\n",
    "        with torch.no_grad():\n",
    "            output, hidden = model(input_seq, hidden)\n",
    "            next_token = torch.argmax(output[:, -1, :], dim=-1).item()\n",
    "            if next_token == dataset.char_to_idx[\"<END>\"]:\n",
    "                break\n",
    "            generated_sequence.append(next_token)\n",
    "            input_seq = torch.tensor([[next_token]], dtype=torch.long)\n",
    "\n",
    "    return \"\".join([dataset.idx_to_char[idx] for idx in generated_sequence if idx > 0])\n",
    "\n",
    "\n",
    "start_token = dataset.char_to_idx[\"<START>\"]\n",
    "print(\"A generated Roman Number:\")\n",
    "print(generate_sequence(model, start_token, max_length=20, dataset=dataset))"
   ],
   "id": "79bd83fa6153544",
   "outputs": [
    {
     "name": "stdout",
     "output_type": "stream",
     "text": [
      "A generated Roman Number:\n",
      "<START>MMMCCCXXXII\n"
     ]
    }
   ],
   "execution_count": 12
  },
  {
   "metadata": {
    "ExecuteTime": {
     "end_time": "2025-10-24T16:59:33.468538Z",
     "start_time": "2025-10-24T16:59:33.436025Z"
    }
   },
   "cell_type": "code",
   "source": [
    "# Completes the sequence given as start_tokens\n",
    "def read_sequence(model, start_tokens, max_length, dataset, temperature=1.0):\n",
    "    model.eval() # Evaluation state\n",
    "\n",
    "    # Get the Model ready, by feeding it the current sequence (start tokens)\n",
    "    generated_sequence = start_tokens[:]\n",
    "    input_seq = torch.tensor([start_tokens], dtype=torch.long)\n",
    "    with torch.no_grad():\n",
    "        _, hidden = model(input_seq)\n",
    "\n",
    "    # Generate new tokens\n",
    "    for _ in range(max_length):\n",
    "        with torch.no_grad():\n",
    "            output, hidden = model(input_seq, hidden)\n",
    "\n",
    "            # Get the probability distribution (adapted using temperature)\n",
    "            logits = output[:, -1, :]\n",
    "            probabilities = F.softmax(logits / temperature, dim=-1)\n",
    "\n",
    "            # Print probability distribution\n",
    "            for i, x in enumerate(probabilities[0].numpy()):\n",
    "                if i > 0:\n",
    "                    print(dataset.idx_to_char[i], np.round(x, 2))\n",
    "\n",
    "            # Pick the next token\n",
    "            next_token = torch.multinomial(probabilities, num_samples=1).item()\n",
    "            if next_token == dataset.char_to_idx[\"<END>\"]:\n",
    "                break\n",
    "            generated_sequence.append(next_token)\n",
    "            input_seq = torch.tensor([[next_token]], dtype=torch.long)\n",
    "\n",
    "            # Print current sequence state\n",
    "            print([dataset.idx_to_char[idx] for idx in generated_sequence if idx > 0])\n",
    "\n",
    "    return \"\".join([dataset.idx_to_char[idx] for idx in generated_sequence if idx > 0])\n",
    "\n",
    "\n",
    "start_tokens = start_tokens = [\n",
    "    dataset.char_to_idx[\"<START>\"],\n",
    "    dataset.char_to_idx[\"X\"],\n",
    "]\n",
    "\n",
    "read_sequence(\n",
    "    model,\n",
    "    start_tokens,\n",
    "    max_length=10,\n",
    "    dataset=dataset,\n",
    "    temperature=0.8  # Determines how willing it is to pick improbable options\n",
    ")"
   ],
   "id": "9773736da067cc5a",
   "outputs": [
    {
     "name": "stdout",
     "output_type": "stream",
     "text": [
      "I 0.58\n",
      "V 0.08\n",
      "X 0.18\n",
      "L 0.0\n",
      "C 0.01\n",
      "D 0.0\n",
      "M 0.0\n",
      "<START> 0.0\n",
      "<END> 0.14\n",
      "['<START>', 'X', 'V']\n",
      "I 0.71\n",
      "V 0.0\n",
      "X 0.0\n",
      "L 0.0\n",
      "C 0.0\n",
      "D 0.0\n",
      "M 0.0\n",
      "<START> 0.0\n",
      "<END> 0.29\n"
     ]
    },
    {
     "data": {
      "text/plain": [
       "'<START>XV'"
      ]
     },
     "execution_count": 26,
     "metadata": {},
     "output_type": "execute_result"
    }
   ],
   "execution_count": 26
  },
  {
   "metadata": {
    "ExecuteTime": {
     "end_time": "2025-10-24T16:59:31.948649Z",
     "start_time": "2025-10-24T16:59:31.944663Z"
    }
   },
   "cell_type": "code",
   "source": "",
   "id": "6e5baedf9f9b0010",
   "outputs": [],
   "execution_count": null
  }
 ],
 "metadata": {
  "kernelspec": {
   "display_name": "Python 3",
   "language": "python",
   "name": "python3"
  },
  "language_info": {
   "codemirror_mode": {
    "name": "ipython",
    "version": 2
   },
   "file_extension": ".py",
   "mimetype": "text/x-python",
   "name": "python",
   "nbconvert_exporter": "python",
   "pygments_lexer": "ipython2",
   "version": "2.7.6"
  }
 },
 "nbformat": 4,
 "nbformat_minor": 5
}
