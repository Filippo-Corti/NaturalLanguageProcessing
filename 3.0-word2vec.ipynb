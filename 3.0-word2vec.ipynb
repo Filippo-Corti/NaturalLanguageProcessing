{
 "cells": [
  {
   "cell_type": "code",
   "id": "initial_id",
   "metadata": {
    "collapsed": true,
    "jupyter": {
     "is_executing": true
    }
   },
   "source": [
    "import json\n",
    "from utils.bow import Bow\n",
    "from sklearn.manifold import TSNE\n",
    "import matplotlib.pyplot as plt\n",
    "import pandas as pd\n",
    "import torch\n",
    "from sklearn.cluster import AffinityPropagation\n",
    "from collections import defaultdict\n",
    "import seaborn as sns\n",
    "import numpy as np\n",
    "from utils.word2vec import Word2WordPrediction, Word2VecModel, WordEmbeddings\n",
    "\n",
    "plt.style.use('seaborn-v0_8-dark-palette')"
   ],
   "outputs": [],
   "execution_count": null
  },
  {
   "metadata": {
    "ExecuteTime": {
     "end_time": "2025-10-16T08:52:10.269549Z",
     "start_time": "2025-10-16T08:52:10.262062Z"
    }
   },
   "cell_type": "code",
   "source": [
    "with open('data/weather.json', 'r') as file_in:\n",
    "    data = json.load(file_in)\n",
    "weather = data['weather']\n",
    "for doc in weather:\n",
    "    print(\" | \".join(doc))"
   ],
   "id": "ec755b7ef060e44a",
   "outputs": [
    {
     "name": "stdout",
     "output_type": "stream",
     "text": [
      "mountains | snow | ice | peak | woods | cold\n",
      "beach | sand | sea | wave | sun | hot\n",
      "desert | dune | cactus | sand | sun | arid\n",
      "forest | tree | leaf | animal | rain | humidity\n",
      "river | water | fish | spring | current | bank\n",
      "sky | cloud | wind | rain | thunder | rainbow\n"
     ]
    }
   ],
   "execution_count": 5
  },
  {
   "metadata": {
    "ExecuteTime": {
     "end_time": "2025-10-16T08:55:59.524755Z",
     "start_time": "2025-10-16T08:55:59.517960Z"
    }
   },
   "cell_type": "code",
   "source": [
    "bow = Bow(corpus=weather)\n",
    "data_loader, inputs, outputs = bow.one_hot_skip_gram_dataloader(window=2, batch=2)"
   ],
   "id": "5e77a437fa6280d0",
   "outputs": [],
   "execution_count": 7
  },
  {
   "metadata": {
    "ExecuteTime": {
     "end_time": "2025-10-16T08:56:52.278264Z",
     "start_time": "2025-10-16T08:56:52.263227Z"
    }
   },
   "cell_type": "code",
   "source": [
    "# Example input\n",
    "pd.DataFrame(inputs, columns=bow.vocabulary).iloc[0].head()"
   ],
   "id": "68e1391b7943e3cc",
   "outputs": [
    {
     "data": {
      "text/plain": [
       "mountains    1.0\n",
       "snow         0.0\n",
       "ice          0.0\n",
       "peak         0.0\n",
       "woods        0.0\n",
       "Name: 0, dtype: float32"
      ]
     },
     "execution_count": 9,
     "metadata": {},
     "output_type": "execute_result"
    }
   ],
   "execution_count": 9
  },
  {
   "metadata": {
    "ExecuteTime": {
     "end_time": "2025-10-16T08:57:07.707170Z",
     "start_time": "2025-10-16T08:57:07.691484Z"
    }
   },
   "cell_type": "code",
   "source": [
    "# Example output (notice that mountains - the input - isn't in here)\n",
    "pd.DataFrame(outputs, columns=bow.vocabulary).iloc[0].head()"
   ],
   "id": "e4279b707341b6d2",
   "outputs": [
    {
     "data": {
      "text/plain": [
       "mountains    0.0\n",
       "snow         1.0\n",
       "ice          1.0\n",
       "peak         0.0\n",
       "woods        0.0\n",
       "Name: 0, dtype: float32"
      ]
     },
     "execution_count": 10,
     "metadata": {},
     "output_type": "execute_result"
    }
   ],
   "execution_count": 10
  },
  {
   "metadata": {
    "ExecuteTime": {
     "end_time": "2025-10-16T09:02:52.219653Z",
     "start_time": "2025-10-16T09:02:44.937525Z"
    }
   },
   "cell_type": "code",
   "source": [
    "w2w = Word2WordPrediction(input_dim=bow.size, hidden_dim=4)\n",
    "epochs = 150\n",
    "learning_rate = 0.01\n",
    "history = w2w.train(\n",
    "    data_loader=data_loader,\n",
    "    epochs=epochs,\n",
    "    learning_rate=learning_rate\n",
    ")\n",
    "print(history[0], history[-1]) # History of errors"
   ],
   "id": "ea30f34b51a00a17",
   "outputs": [
    {
     "name": "stderr",
     "output_type": "stream",
     "text": [
      "100%|██████████| 150/150 [00:05<00:00, 28.85it/s]"
     ]
    },
    {
     "name": "stdout",
     "output_type": "stream",
     "text": [
      "10.489047156439888 9.71256399154663\n"
     ]
    },
    {
     "name": "stderr",
     "output_type": "stream",
     "text": [
      "\n"
     ]
    }
   ],
   "execution_count": 13
  },
  {
   "metadata": {
    "ExecuteTime": {
     "end_time": "2025-10-16T09:06:41.469170Z",
     "start_time": "2025-10-16T09:06:41.457416Z"
    }
   },
   "cell_type": "code",
   "source": [
    "# The main way of using this is to only consider the Embeddings\n",
    "\n",
    "# However, we can also use it to predict words\n",
    "model = WordEmbeddings(words=bow, model=w2w)\n",
    "model['desert'] # Embedding of 'desert'"
   ],
   "id": "6e44f5664b60837",
   "outputs": [
    {
     "data": {
      "text/plain": [
       "array([ 2.011945 ,  2.14331  , -1.9545498,  2.1225908], dtype=float32)"
      ]
     },
     "execution_count": 14,
     "metadata": {},
     "output_type": "execute_result"
    }
   ],
   "execution_count": 14
  },
  {
   "metadata": {
    "ExecuteTime": {
     "end_time": "2025-10-16T09:07:00.095705Z",
     "start_time": "2025-10-16T09:07:00.080913Z"
    }
   },
   "cell_type": "code",
   "source": [
    "query = 'snow'\n",
    "next_word = model.predict(query, topk=10)\n",
    "next_word"
   ],
   "id": "a94f6804a1fbb584",
   "outputs": [
    {
     "data": {
      "text/plain": [
       "peak         0.999309\n",
       "ice          0.000417\n",
       "snow         0.000121\n",
       "woods        0.000096\n",
       "cloud        0.000012\n",
       "mountains    0.000010\n",
       "cold         0.000007\n",
       "forest       0.000003\n",
       "animal       0.000003\n",
       "humidity     0.000002\n",
       "dtype: float32"
      ]
     },
     "execution_count": 15,
     "metadata": {},
     "output_type": "execute_result"
    }
   ],
   "execution_count": 15
  },
  {
   "metadata": {
    "ExecuteTime": {
     "end_time": "2025-10-16T09:08:02.568321Z",
     "start_time": "2025-10-16T09:08:02.553996Z"
    }
   },
   "cell_type": "code",
   "source": [
    "start = \"desert\"\n",
    "text = [start]\n",
    "for i in range(6):\n",
    "    p = model.predict(start)\n",
    "    # Sample one from the distribution\n",
    "    next_word = np.random.choice(p.index.values, p=p.values / p.values.sum())\n",
    "    text.append(next_word)\n",
    "    start = next_word\n",
    "\n",
    "print(\" \".join(text))"
   ],
   "id": "9e23ffe882a50a13",
   "outputs": [
    {
     "name": "stdout",
     "output_type": "stream",
     "text": [
      "desert dune sand dune sand sun sand\n"
     ]
    }
   ],
   "execution_count": 17
  },
  {
   "metadata": {},
   "cell_type": "markdown",
   "source": [
    "### Similarity with Word Embeddings\n",
    "\n",
    "Notice that similarity doesn't necessarily match the idea of being similar things.\n",
    "Similar words are those with a similar content."
   ],
   "id": "b1550aa080e36132"
  },
  {
   "metadata": {
    "ExecuteTime": {
     "end_time": "2025-10-16T09:13:53.372157Z",
     "start_time": "2025-10-16T09:13:53.362840Z"
    }
   },
   "cell_type": "code",
   "source": [
    "# Let's use the Embeddings now\n",
    "\n",
    "# We can use them for Similarity\n",
    "\n",
    "search = 'desert'\n",
    "model[search]"
   ],
   "id": "fb2646a1be0a4e40",
   "outputs": [
    {
     "data": {
      "text/plain": [
       "array([ 2.011945 ,  2.14331  , -1.9545498,  2.1225908], dtype=float32)"
      ]
     },
     "execution_count": 24,
     "metadata": {},
     "output_type": "execute_result"
    }
   ],
   "execution_count": 24
  },
  {
   "metadata": {
    "ExecuteTime": {
     "end_time": "2025-10-16T09:13:54.456681Z",
     "start_time": "2025-10-16T09:13:54.448098Z"
    }
   },
   "cell_type": "code",
   "source": "model.most_similar(search, topk=10)",
   "id": "7a3c6a319a898b5b",
   "outputs": [
    {
     "data": {
      "text/plain": [
       "desert    1.000000\n",
       "sand      0.762203\n",
       "rain      0.399906\n",
       "sky       0.372315\n",
       "tree      0.296826\n",
       "forest    0.253525\n",
       "hot       0.178326\n",
       "sun       0.147142\n",
       "sea       0.143161\n",
       "ice       0.080562\n",
       "Name: desert, dtype: float32"
      ]
     },
     "execution_count": 25,
     "metadata": {},
     "output_type": "execute_result"
    }
   ],
   "execution_count": 25
  },
  {
   "metadata": {
    "ExecuteTime": {
     "end_time": "2025-10-16T09:12:24.469429Z",
     "start_time": "2025-10-16T09:12:23.574436Z"
    }
   },
   "cell_type": "code",
   "source": [
    "tsne = TSNE(n_components=2)\n",
    "vectors = model.vectors(bow.vocabulary)\n",
    "v2d = tsne.fit_transform(vectors)\n",
    "\n",
    "selected_words = bow.vocabulary\n",
    "indexes = [bow.word2idx[w] for w in selected_words]\n",
    "selected2d = v2d[indexes]\n",
    "\n",
    "fig, ax = plt.subplots(figsize=(12, 5))\n",
    "ax.scatter(selected2d[:,0], selected2d[:, 1])\n",
    "for i, w in enumerate(selected_words):\n",
    "    ax.text(selected2d[i][0] + .02, selected2d[i][1] + .02, w)\n",
    "plt.tight_layout()\n",
    "plt.show()"
   ],
   "id": "66dde4c981a15845",
   "outputs": [
    {
     "data": {
      "text/plain": [
       "<Figure size 1200x500 with 1 Axes>"
      ],
      "image/png": "[encoded data removed]"
     },
     "metadata": {},
     "output_type": "display_data",
     "jetTransient": {
      "display_id": null
     }
    }
   ],
   "execution_count": 23
  },
  {
   "metadata": {
    "ExecuteTime": {
     "end_time": "2025-10-16T09:17:27.643660Z",
     "start_time": "2025-10-16T09:17:27.347577Z"
    }
   },
   "cell_type": "code",
   "source": [
    "# Clustering could be used for building ontologies (or graphs and then community detection)\n",
    "\n",
    "ap = AffinityPropagation() # Also finds the number of clusters\n",
    "assignments = ap.fit_predict(selected2d)\n",
    "clusters = defaultdict(list)\n",
    "for i, cluster in enumerate(assignments):\n",
    "    clusters[cluster].append(selected_words[i])\n",
    "\n",
    "dfsample = pd.DataFrame(selected2d)\n",
    "dfsample['word'] = selected_words\n",
    "dfsample['cluster'] = assignments\n",
    "\n",
    "# Each cluster is kind-of a context\n",
    "for cluster, words in clusters.items():\n",
    "    print(f\"Cluster {cluster}: {', '.join(words)}\")\n",
    "\n",
    "fig, ax = plt.subplots(figsize=(12, 5))\n",
    "scatter = sns.scatterplot(\n",
    "    data=dfsample,\n",
    "    x=0,\n",
    "    y=1,\n",
    "    hue=\"cluster\",\n",
    "    s=80,\n",
    "    palette=\"tab10\",\n",
    "    legend=\"full\",\n",
    "    ax=ax,\n",
    "    alpha=0.4\n",
    ")\n",
    "for i in range(len(dfsample)):\n",
    "    plt.text(dfsample[0][i] + 0.01, dfsample[1][i], dfsample.word[i], fontsize=6)\n",
    "plt.tight_layout()\n",
    "plt.show()"
   ],
   "id": "fd18307f53acc68d",
   "outputs": [
    {
     "name": "stdout",
     "output_type": "stream",
     "text": [
      "Cluster 4: mountains, peak, river, water, fish, spring, current, bank\n",
      "Cluster 0: snow, ice, woods, cold, sky\n",
      "Cluster 1: beach, sand, sea, wave, sun, hot, dune, cactus, arid\n",
      "Cluster 2: desert, forest, tree\n",
      "Cluster 3: leaf, animal, rain, humidity, cloud, wind, thunder, rainbow\n"
     ]
    },
    {
     "data": {
      "text/plain": [
       "<Figure size 1200x500 with 1 Axes>"
      ],
      "image/png": "[encoded data removed]"
     },
     "metadata": {},
     "output_type": "display_data",
     "jetTransient": {
      "display_id": null
     }
    }
   ],
   "execution_count": 28
  },
  {
   "metadata": {
    "ExecuteTime": {
     "end_time": "2025-10-16T09:22:26.844036Z",
     "start_time": "2025-10-16T09:22:26.620950Z"
    }
   },
   "cell_type": "code",
   "source": [
    "def pointer(group, vectors):\n",
    "    g = vectors[[bow.word2idx[w] for w in group]]\n",
    "    return g.mean(axis=0)\n",
    "\n",
    "# Manually define groups\n",
    "group1 = ['dune', 'beach', 'cactus', 'arid']\n",
    "group2 = ['snow', 'peak', 'mountains', 'ice']\n",
    "group3 = ['forest', 'tree', 'rain', 'humidity']\n",
    "g1 = pointer(group1, v2d)\n",
    "g2 = pointer(group2, v2d)\n",
    "g3 = pointer(group3, v2d)\n",
    "\n",
    "# Look at direction of the groups\n",
    "fig, ax = plt.subplots(figsize=(4, 4))\n",
    "ax.arrow(0, 0, g1[0], g1[1], head_width=0.05, head_length=0.05, fc='red', ec='red')\n",
    "ax.arrow(0, 0, g2[0], g2[1], head_width=0.05, head_length=0.05, fc='blue', ec='blue')\n",
    "ax.arrow(0, 0, g3[0], g3[1], head_width=0.05, head_length=0.05, fc='green', ec='green')\n",
    "plt.tight_layout"
   ],
   "id": "5bcc0a281d86c009",
   "outputs": [
    {
     "data": {
      "text/plain": [
       "<function matplotlib.pyplot.tight_layout(*, pad: 'float' = 1.08, h_pad: 'float | None' = None, w_pad: 'float | None' = None, rect: 'tuple[float, float, float, float] | None' = None) -> 'None'>"
      ]
     },
     "execution_count": 30,
     "metadata": {},
     "output_type": "execute_result"
    },
    {
     "data": {
      "text/plain": [
       "<Figure size 400x400 with 1 Axes>"
      ],
      "image/png": "[encoded data removed]"
     },
     "metadata": {},
     "output_type": "display_data",
     "jetTransient": {
      "display_id": null
     }
    }
   ],
   "execution_count": 30
  },
  {
   "metadata": {},
   "cell_type": "markdown",
   "source": [
    "### Compositionality of Word Embeddings\n",
    "\n",
    "Word Embeddings have the property of Compositionality.\n",
    "This means, that operations between words are possible.\n"
   ],
   "id": "4f7679fa20e8eea4"
  },
  {
   "metadata": {
    "ExecuteTime": {
     "end_time": "2025-10-16T09:25:06.336045Z",
     "start_time": "2025-10-16T09:25:06.322881Z"
    }
   },
   "cell_type": "code",
   "source": [
    "# For instance, we can sum/subtract meaning of words\n",
    "\n",
    "# We want to find the context of desert, without the meaning of dune\n",
    "model.search(positive=['desert'], negative=['dune'])\n"
   ],
   "id": "59612ec633a61ff1",
   "outputs": [
    {
     "data": {
      "text/plain": [
       "desert       0.816915\n",
       "ice          0.602255\n",
       "woods        0.551866\n",
       "cold         0.548359\n",
       "sand         0.538404\n",
       "snow         0.537488\n",
       "sky          0.463786\n",
       "rain         0.310469\n",
       "peak         0.219577\n",
       "mountains    0.130195\n",
       "dtype: float32"
      ]
     },
     "execution_count": 32,
     "metadata": {},
     "output_type": "execute_result"
    }
   ],
   "execution_count": 32
  },
  {
   "metadata": {
    "ExecuteTime": {
     "end_time": "2025-10-16T09:30:47.674711Z",
     "start_time": "2025-10-16T09:30:47.669684Z"
    }
   },
   "cell_type": "code",
   "source": [
    "# We can play with analogies\n",
    "\n",
    "# For example: (king - man + woman) => queen\n",
    "# Positive = [man, king], Negative = [woman] --> Find the missing negative\n",
    "answer, a_vector = model.analogy('sea', 'wave', 'desert')\n",
    "# The wave is for the sea what the sand is for the desert\n",
    "answer"
   ],
   "id": "6c261e578bc65e43",
   "outputs": [
    {
     "data": {
      "text/plain": [
       "'sand'"
      ]
     },
     "execution_count": 34,
     "metadata": {},
     "output_type": "execute_result"
    }
   ],
   "execution_count": 34
  },
  {
   "metadata": {
    "ExecuteTime": {
     "end_time": "2025-10-16T09:32:04.870155Z",
     "start_time": "2025-10-16T09:32:04.856343Z"
    }
   },
   "cell_type": "code",
   "source": [
    "# We can find common meanings between words\n",
    "\n",
    "# We just compute the mean of the embeddings\n",
    "model.common_meanings(['sea', 'wave', 'desert', 'sand'])"
   ],
   "id": "3934f895fb16fe11",
   "outputs": [
    {
     "data": {
      "text/plain": [
       "sand      0.894452\n",
       "sea       0.795115\n",
       "sun       0.743280\n",
       "hot       0.713473\n",
       "desert    0.700922\n",
       "cactus    0.600917\n",
       "wave      0.541060\n",
       "beach     0.537736\n",
       "dune      0.537507\n",
       "arid      0.527818\n",
       "dtype: float32"
      ]
     },
     "execution_count": 36,
     "metadata": {},
     "output_type": "execute_result"
    }
   ],
   "execution_count": 36
  },
  {
   "metadata": {
    "ExecuteTime": {
     "end_time": "2025-10-16T09:32:44.746560Z",
     "start_time": "2025-10-16T09:32:44.732988Z"
    }
   },
   "cell_type": "code",
   "source": [
    "# We can spot 'odd' words in a list\n",
    "model.spot_odd_one(words=['mountains', 'peak', 'snow', 'sand'])"
   ],
   "id": "fe619ed8f8507d2f",
   "outputs": [
    {
     "data": {
      "text/plain": [
       "sand         0.323529\n",
       "snow         0.523786\n",
       "mountains    0.891621\n",
       "peak         0.921513\n",
       "dtype: float32"
      ]
     },
     "execution_count": 37,
     "metadata": {},
     "output_type": "execute_result"
    }
   ],
   "execution_count": 37
  },
  {
   "metadata": {},
   "cell_type": "code",
   "outputs": [],
   "execution_count": null,
   "source": "",
   "id": "1e68fe52ba0b6d5e"
  }
 ],
 "metadata": {
  "kernelspec": {
   "display_name": "Python 3",
   "language": "python",
   "name": "python3"
  },
  "language_info": {
   "codemirror_mode": {
    "name": "ipython",
    "version": 2
   },
   "file_extension": ".py",
   "mimetype": "text/x-python",
   "name": "python",
   "nbconvert_exporter": "python",
   "pygments_lexer": "ipython2",
   "version": "2.7.6"
  }
 },
 "nbformat": 4,
 "nbformat_minor": 5
}
